{
  "nbformat": 4,
  "nbformat_minor": 0,
  "metadata": {
    "colab": {
      "name": "Exercise WebAccess .ipynb",
      "version": "0.3.2",
      "provenance": [],
      "collapsed_sections": [],
      "include_colab_link": true
    },
    "kernelspec": {
      "name": "python3",
      "display_name": "Python 3"
    }
  },
  "cells": [
    {
      "cell_type": "markdown",
      "metadata": {
        "id": "view-in-github",
        "colab_type": "text"
      },
      "source": [
        "<a href=\"https://colab.research.google.com/github/iamshirdi/Datascience/blob/master/python/Exercise_WebAccess_.ipynb\" target=\"_parent\"><img src=\"https://colab.research.google.com/assets/colab-badge.svg\" alt=\"Open In Colab\"/></a>"
      ]
    },
    {
      "cell_type": "code",
      "metadata": {
        "id": "_KcOdpEG3Hrw",
        "colab_type": "code",
        "outputId": "accabca9-e28f-4474-bd6a-7f3ba6856e0e",
        "colab": {
          "base_uri": "https://localhost:8080/",
          "height": 328
        }
      },
      "source": [
        "cat /etc/*-release"
      ],
      "execution_count": 0,
      "outputs": [
        {
          "output_type": "stream",
          "text": [
            "DISTRIB_ID=Ubuntu\n",
            "DISTRIB_RELEASE=18.04\n",
            "DISTRIB_CODENAME=bionic\n",
            "DISTRIB_DESCRIPTION=\"Ubuntu 18.04.2 LTS\"\n",
            "NAME=\"Ubuntu\"\n",
            "VERSION=\"18.04.2 LTS (Bionic Beaver)\"\n",
            "ID=ubuntu\n",
            "ID_LIKE=debian\n",
            "PRETTY_NAME=\"Ubuntu 18.04.2 LTS\"\n",
            "VERSION_ID=\"18.04\"\n",
            "HOME_URL=\"https://www.ubuntu.com/\"\n",
            "SUPPORT_URL=\"https://help.ubuntu.com/\"\n",
            "BUG_REPORT_URL=\"https://bugs.launchpad.net/ubuntu/\"\n",
            "PRIVACY_POLICY_URL=\"https://www.ubuntu.com/legal/terms-and-policies/privacy-policy\"\n",
            "VERSION_CODENAME=bionic\n",
            "UBUNTU_CODENAME=bionic\n"
          ],
          "name": "stdout"
        }
      ]
    },
    {
      "cell_type": "code",
      "metadata": {
        "id": "CxKhqD6J3Nfb",
        "colab_type": "code",
        "outputId": "1e605c9c-5c72-4bd7-8a5a-2dc6d99d6ff9",
        "colab": {
          "base_uri": "https://localhost:8080/",
          "height": 655
        }
      },
      "source": [
        "!sudo apt-get install telnet"
      ],
      "execution_count": 0,
      "outputs": [
        {
          "output_type": "stream",
          "text": [
            "Reading package lists... Done\n",
            "Building dependency tree       \n",
            "Reading state information... Done\n",
            "The following package was automatically installed and is no longer required:\n",
            "  libnvidia-common-410\n",
            "Use 'sudo apt autoremove' to remove it.\n",
            "The following additional packages will be installed:\n",
            "  netbase\n",
            "The following NEW packages will be installed:\n",
            "  netbase telnet\n",
            "0 upgraded, 2 newly installed, 0 to remove and 8 not upgraded.\n",
            "Need to get 79.8 kB of archives.\n",
            "After this operation, 210 kB of additional disk space will be used.\n",
            "Get:1 http://archive.ubuntu.com/ubuntu bionic/main amd64 netbase all 5.4 [12.7 kB]\n",
            "Get:2 http://archive.ubuntu.com/ubuntu bionic/main amd64 telnet amd64 0.17-41 [67.1 kB]\n",
            "Fetched 79.8 kB in 0s (1,004 kB/s)\n",
            "debconf: unable to initialize frontend: Dialog\n",
            "debconf: (No usable dialog-like program is installed, so the dialog based frontend cannot be used. at /usr/share/perl5/Debconf/FrontEnd/Dialog.pm line 76, <> line 2.)\n",
            "debconf: falling back to frontend: Readline\n",
            "debconf: unable to initialize frontend: Readline\n",
            "debconf: (This frontend requires a controlling tty.)\n",
            "debconf: falling back to frontend: Teletype\n",
            "dpkg-preconfigure: unable to re-open stdin: \n",
            "Selecting previously unselected package netbase.\n",
            "(Reading database ... 130912 files and directories currently installed.)\n",
            "Preparing to unpack .../archives/netbase_5.4_all.deb ...\n",
            "Unpacking netbase (5.4) ...\n",
            "Selecting previously unselected package telnet.\n",
            "Preparing to unpack .../telnet_0.17-41_amd64.deb ...\n",
            "Unpacking telnet (0.17-41) ...\n",
            "Processing triggers for man-db (2.8.3-2ubuntu0.1) ...\n",
            "Setting up netbase (5.4) ...\n",
            "Setting up telnet (0.17-41) ...\n",
            "update-alternatives: using /usr/bin/telnet.netkit to provide /usr/bin/telnet (telnet) in auto mode\n"
          ],
          "name": "stdout"
        }
      ]
    },
    {
      "cell_type": "code",
      "metadata": {
        "id": "tZb6GGwr3R1A",
        "colab_type": "code",
        "outputId": "3baad75f-9395-4b17-cedb-a5c8e6c05110",
        "colab": {
          "base_uri": "https://localhost:8080/",
          "height": 164
        }
      },
      "source": [
        "!ps -l"
      ],
      "execution_count": 0,
      "outputs": [
        {
          "output_type": "stream",
          "text": [
            "F S   UID     PID    PPID  C PRI  NI ADDR SZ WCHAN  TTY          TIME CMD\n",
            "4 S     0       1       0  0  80   0 -  9798 wait   ?        00:00:00 run.sh\n",
            "4 S     0       7       1  0  80   0 - 170020 ep_pol ?       00:00:00 node\n",
            "4 S     0      23       7  0  80   0 - 118984 ep_pol ?       00:00:02 jupyter-no\n",
            "4 S     0     148       0  0  80   0 -  8971 hrtime ?        00:00:00 tail\n",
            "4 S     0     157      23  1  80   0 - 148008 poll_s ?       00:00:02 python3\n",
            "0 R     0     330     157  0  80   0 - 12644 -      ?        00:00:00 ps\n"
          ],
          "name": "stdout"
        }
      ]
    },
    {
      "cell_type": "code",
      "metadata": {
        "id": "8MDccnZU3taT",
        "colab_type": "code",
        "outputId": "e783b06a-a862-4b6d-c61c-c0cb7ec66231",
        "colab": {
          "base_uri": "https://localhost:8080/",
          "height": 544
        }
      },
      "source": [
        "!telnet data.pr4e.org 80\n",
        "# need to enter GET /index.html HTTP/1.0 or whatever  and press enter twice\n",
        "#Here entered GET http://data.pr4e.org/intro-short.txt HTTP/1.0 and pressed enter twice"
      ],
      "execution_count": 0,
      "outputs": [
        {
          "output_type": "stream",
          "text": [
            "Trying 192.241.136.170...\n",
            "Connected to data.pr4e.org.\n",
            "Escape character is '^]'.\n",
            "GET http://data.pr4e.org/intro-short.txt HTTP/1.0\n",
            "\n",
            "HTTP/1.1 200 OK\n",
            "Date: Wed, 12 Jun 2019 18:32:24 GMT\n",
            "Server: Apache/2.4.18 (Ubuntu)\n",
            "Last-Modified: Sat, 13 May 2017 11:22:22 GMT\n",
            "ETag: \"1d3-54f6609240717\"\n",
            "Accept-Ranges: bytes\n",
            "Content-Length: 467\n",
            "Cache-Control: max-age=0, no-cache, no-store, must-revalidate\n",
            "Pragma: no-cache\n",
            "Expires: Wed, 11 Jan 1984 05:00:00 GMT\n",
            "Connection: close\n",
            "Content-Type: text/plain\n",
            "\n",
            "Why should you learn to write programs?\n",
            "\n",
            "Writing programs (or programming) is a very creative \n",
            "and rewarding activity.  You can write programs for \n",
            "many reasons, ranging from making your living to solving\n",
            "a difficult data analysis problem to having fun to helping\n",
            "someone else solve a problem.  This book assumes that \n",
            "everyone needs to know how to program, and that once \n",
            "you know how to program you will figure out what you want \n",
            "to do with your newfound skills.  \n",
            "Connection closed by foreign host.\n"
          ],
          "name": "stdout"
        }
      ]
    },
    {
      "cell_type": "markdown",
      "metadata": {
        "id": "ptQXFJ4u67zj",
        "colab_type": "text"
      },
      "source": [
        "### Socket Method"
      ]
    },
    {
      "cell_type": "code",
      "metadata": {
        "id": "rjM3C0Ai3yjE",
        "colab_type": "code",
        "outputId": "41817e55-4519-4c64-9d3a-cfdbcf4a115d",
        "colab": {
          "base_uri": "https://localhost:8080/",
          "height": 435
        }
      },
      "source": [
        "import socket\n",
        "\n",
        "mysock = socket.socket(socket.AF_INET, socket.SOCK_STREAM)\n",
        "mysock.connect(('data.pr4e.org', 80))\n",
        "cmd = 'GET http://data.pr4e.org/intro-short.txt HTTP/1.0\\r\\n\\r\\n'.encode()\n",
        "mysock.send(cmd)\n",
        "\n",
        "while True:\n",
        "    data = mysock.recv(512)\n",
        "    if len(data) < 1:\n",
        "        break\n",
        "    print(data.decode(),end='')\n",
        "\n",
        "mysock.close()"
      ],
      "execution_count": 0,
      "outputs": [
        {
          "output_type": "stream",
          "text": [
            "HTTP/1.1 200 OK\r\n",
            "Date: Wed, 12 Jun 2019 18:31:08 GMT\r\n",
            "Server: Apache/2.4.18 (Ubuntu)\r\n",
            "Last-Modified: Sat, 13 May 2017 11:22:22 GMT\r\n",
            "ETag: \"1d3-54f6609240717\"\r\n",
            "Accept-Ranges: bytes\r\n",
            "Content-Length: 467\r\n",
            "Cache-Control: max-age=0, no-cache, no-store, must-revalidate\r\n",
            "Pragma: no-cache\r\n",
            "Expires: Wed, 11 Jan 1984 05:00:00 GMT\r\n",
            "Connection: close\r\n",
            "Content-Type: text/plain\r\n",
            "\r\n",
            "Why should you learn to write programs?\n",
            "\n",
            "Writing programs (or programming) is a very creative \n",
            "and rewarding activity.  You can write programs for \n",
            "many reasons, ranging from making your living to solving\n",
            "a difficult data analysis problem to having fun to helping\n",
            "someone else solve a problem.  This book assumes that \n",
            "everyone needs to know how to program, and that once \n",
            "you know how to program you will figure out what you want \n",
            "to do with your newfound skills.  \n"
          ],
          "name": "stdout"
        }
      ]
    },
    {
      "cell_type": "code",
      "metadata": {
        "id": "HWN_U9ZK9UR_",
        "colab_type": "code",
        "outputId": "6f0178ff-57e4-4df3-b9a9-995ad52a0770",
        "colab": {
          "base_uri": "https://localhost:8080/",
          "height": 53
        }
      },
      "source": [
        "print(ord('H'))\n",
        "print(ord('\\n'))#in decimal represent machine binary code\n",
        "# ord function tells simple numeric value of a ASCII character\n",
        "# 1 byte 8 bits"
      ],
      "execution_count": 0,
      "outputs": [
        {
          "output_type": "stream",
          "text": [
            "72\n",
            "10\n"
          ],
          "name": "stdout"
        }
      ]
    },
    {
      "cell_type": "markdown",
      "metadata": {
        "id": "qhVI0p2pCWwU",
        "colab_type": "text"
      },
      "source": [
        "<h4>ASCII characters that is associated with 108, 105, 110, 101"
      ]
    },
    {
      "cell_type": "code",
      "metadata": {
        "id": "U2CzlzfjCW9V",
        "colab_type": "code",
        "colab": {
          "base_uri": "https://localhost:8080/",
          "height": 35
        },
        "outputId": "81799215-b3d2-4957-91a0-d867e465daa8"
      },
      "source": [
        "for n,i in enumerate([108,105,110,101]):\n",
        "  print(chr(i),end='') #without end seperate line\n",
        "  #enumerate to count index if needed no use right now"
      ],
      "execution_count": 18,
      "outputs": [
        {
          "output_type": "stream",
          "text": [
            "line"
          ],
          "name": "stdout"
        }
      ]
    },
    {
      "cell_type": "code",
      "metadata": {
        "id": "MzrIllE5DVhZ",
        "colab_type": "code",
        "colab": {
          "base_uri": "https://localhost:8080/",
          "height": 526
        },
        "outputId": "9c88ec56-9563-42f5-932f-96d1ab680dd6"
      },
      "source": [
        "help(enumerate)"
      ],
      "execution_count": 14,
      "outputs": [
        {
          "output_type": "stream",
          "text": [
            "Help on class enumerate in module builtins:\n",
            "\n",
            "class enumerate(object)\n",
            " |  enumerate(iterable[, start]) -> iterator for index, value of iterable\n",
            " |  \n",
            " |  Return an enumerate object.  iterable must be another object that supports\n",
            " |  iteration.  The enumerate object yields pairs containing a count (from\n",
            " |  start, which defaults to zero) and a value yielded by the iterable argument.\n",
            " |  enumerate is useful for obtaining an indexed list:\n",
            " |      (0, seq[0]), (1, seq[1]), (2, seq[2]), ...\n",
            " |  \n",
            " |  Methods defined here:\n",
            " |  \n",
            " |  __getattribute__(self, name, /)\n",
            " |      Return getattr(self, name).\n",
            " |  \n",
            " |  __iter__(self, /)\n",
            " |      Implement iter(self).\n",
            " |  \n",
            " |  __new__(*args, **kwargs) from builtins.type\n",
            " |      Create and return a new object.  See help(type) for accurate signature.\n",
            " |  \n",
            " |  __next__(self, /)\n",
            " |      Implement next(self).\n",
            " |  \n",
            " |  __reduce__(...)\n",
            " |      Return state information for pickling.\n",
            "\n"
          ],
          "name": "stdout"
        }
      ]
    },
    {
      "cell_type": "code",
      "metadata": {
        "id": "68sHgAj7-xtH",
        "colab_type": "code",
        "outputId": "65f598f7-89f9-4189-9a1a-a75e09b22da3",
        "colab": {
          "base_uri": "https://localhost:8080/",
          "height": 35
        }
      },
      "source": [
        "x='0h'\n",
        "type(x)"
      ],
      "execution_count": 0,
      "outputs": [
        {
          "output_type": "execute_result",
          "data": {
            "text/plain": [
              "str"
            ]
          },
          "metadata": {
            "tags": []
          },
          "execution_count": 30
        }
      ]
    },
    {
      "cell_type": "code",
      "metadata": {
        "id": "oGrFoUw8BEFp",
        "colab_type": "code",
        "outputId": "32e804ec-b18c-4e32-88b7-67c60010eb10",
        "colab": {
          "base_uri": "https://localhost:8080/",
          "height": 35
        }
      },
      "source": [
        "x=u'0h2'\n",
        "type(x) #python 3 has everything string unlike python 2 which differientiates unicode\n",
        "#byte and string same in python2 only python 3 unicode differnet\n",
        "\n",
        "# encode and decode will convert it to string class in which everythin is represented in python 3\n",
        "# default is utf8"
      ],
      "execution_count": 0,
      "outputs": [
        {
          "output_type": "execute_result",
          "data": {
            "text/plain": [
              "str"
            ]
          },
          "metadata": {
            "tags": []
          },
          "execution_count": 33
        }
      ]
    },
    {
      "cell_type": "code",
      "metadata": {
        "id": "3ZpsQxz0BIOH",
        "colab_type": "code",
        "outputId": "194dc04a-ab4c-4e1b-af66-59cd20bd8a02",
        "colab": {
          "base_uri": "https://localhost:8080/",
          "height": 308
        }
      },
      "source": [
        "!wget -O bs4 http://www.py4e.com/code3/bs4.zip && ls"
      ],
      "execution_count": 19,
      "outputs": [
        {
          "output_type": "stream",
          "text": [
            "--2019-06-13 13:43:34--  http://www.py4e.com/code3/bs4.zip\n",
            "Resolving www.py4e.com (www.py4e.com)... 104.27.159.166, 104.27.158.166, 2606:4700:30::681b:9ea6, ...\n",
            "Connecting to www.py4e.com (www.py4e.com)|104.27.159.166|:80... connected.\n",
            "HTTP request sent, awaiting response... 301 Moved Permanently\n",
            "Location: https://www.py4e.com/code3/bs4.zip [following]\n",
            "--2019-06-13 13:43:34--  https://www.py4e.com/code3/bs4.zip\n",
            "Connecting to www.py4e.com (www.py4e.com)|104.27.159.166|:443... connected.\n",
            "HTTP request sent, awaiting response... 200 OK\n",
            "Length: 79350 (77K) [application/zip]\n",
            "Saving to: ‘bs4’\n",
            "\n",
            "bs4                 100%[===================>]  77.49K   440KB/s    in 0.2s    \n",
            "\n",
            "2019-06-13 13:43:35 (440 KB/s) - ‘bs4’ saved [79350/79350]\n",
            "\n",
            "bs4  sample_data\n"
          ],
          "name": "stdout"
        }
      ]
    },
    {
      "cell_type": "code",
      "metadata": {
        "id": "T815SqQdKILO",
        "colab_type": "code",
        "colab": {
          "base_uri": "https://localhost:8080/",
          "height": 871
        },
        "outputId": "725518b6-5607-4486-a35c-bff1b6d37e5c"
      },
      "source": [
        "\n",
        "from urllib.request import urlopen\n",
        "from bs4 import BeautifulSoup\n",
        "import ssl\n",
        "\n",
        "# Ignore SSL certificate errors\n",
        "ctx = ssl.create_default_context()\n",
        "ctx.check_hostname = False\n",
        "ctx.verify_mode = ssl.CERT_NONE\n",
        "\n",
        "url = input('Enter - ')\n",
        "if len(url)<1:url=\"http://py4e-data.dr-chuck.net\"\n",
        "html = urlopen(url, context=ctx).read()\n",
        "soup = BeautifulSoup(html, \"html.parser\")\n",
        "\n",
        "# Retrieve all of the anchor tags\n",
        "tags = soup('a')\n",
        "for tag in tags:\n",
        "    # Look at the parts of a tag\n",
        "    print('TAG:', tag)\n",
        "    print('URL:', tag.get('href', None))\n",
        "    print('Contents:', tag.contents[0])\n",
        "    print('Attrs:', tag.attrs)"
      ],
      "execution_count": 35,
      "outputs": [
        {
          "output_type": "stream",
          "text": [
            "Enter - \n",
            "TAG: <a href=\"http://www.py4e.com/\" target=\"_blank\">\n",
            "Python for Informatics: Exploring Information</a>\n",
            "URL: http://www.py4e.com/\n",
            "Contents: \n",
            "Python for Informatics: Exploring Information\n",
            "Attrs: {'href': 'http://www.py4e.com/', 'target': '_blank'}\n",
            "TAG: <a href=\"http://www.twitter.com/drchuck\" target=\"_blank\">@DrChuck</a>\n",
            "URL: http://www.twitter.com/drchuck\n",
            "Contents: @DrChuck\n",
            "Attrs: {'href': 'http://www.twitter.com/drchuck', 'target': '_blank'}\n",
            "TAG: <a href=\"http://www.dr-chuck.com/\" target=\"_blank\">www.dr-chuck.com</a>\n",
            "URL: http://www.dr-chuck.com/\n",
            "Contents: www.dr-chuck.com\n",
            "Attrs: {'href': 'http://www.dr-chuck.com/', 'target': '_blank'}\n",
            "TAG: <a href=\"geojson\" target=\"_blank\">A subset of data from the Google Geo Coding API</a>\n",
            "URL: geojson\n",
            "Contents: A subset of data from the Google Geo Coding API\n",
            "Attrs: {'href': 'geojson', 'target': '_blank'}\n",
            "TAG: <a href=\"regex_sum_42.txt\" target='_\"blank\"'>Some data in a text file to be summed</a>\n",
            "URL: regex_sum_42.txt\n",
            "Contents: Some data in a text file to be summed\n",
            "Attrs: {'href': 'regex_sum_42.txt', 'target': '_\"blank\"'}\n",
            "TAG: <a href=\"comments_42.html\" target='_\"blank\"'>Some data in an html file to be summed</a>\n",
            "URL: comments_42.html\n",
            "Contents: Some data in an html file to be summed\n",
            "Attrs: {'href': 'comments_42.html', 'target': '_\"blank\"'}\n",
            "TAG: <a href=\"comments_42.xml\" target='_\"blank\"'>Some data in an xml file to be summed</a>\n",
            "URL: comments_42.xml\n",
            "Contents: Some data in an xml file to be summed\n",
            "Attrs: {'href': 'comments_42.xml', 'target': '_\"blank\"'}\n",
            "TAG: <a href=\"comments_42.json\" target='_\"blank\"'>Some data in an json file to be summed</a>\n",
            "URL: comments_42.json\n",
            "Contents: Some data in an json file to be summed\n",
            "Attrs: {'href': 'comments_42.json', 'target': '_\"blank\"'}\n",
            "TAG: <a href=\"known_by_42.html\" target='_\"blank\"'>A set of friend lists</a>\n",
            "URL: known_by_42.html\n",
            "Contents: A set of friend lists\n",
            "Attrs: {'href': 'known_by_42.html', 'target': '_\"blank\"'}\n",
            "TAG: <a href=\"https://www.cloudflare.com/\" target=\"_blank\">CloudFlare</a>\n",
            "URL: https://www.cloudflare.com/\n",
            "Contents: CloudFlare\n",
            "Attrs: {'href': 'https://www.cloudflare.com/', 'target': '_blank'}\n",
            "TAG: <a href=\"http://py4e-data.dr-chuck.net\" target=\"_blank\">py4e-data.dr-chuck.net</a>\n",
            "URL: http://py4e-data.dr-chuck.net\n",
            "Contents: py4e-data.dr-chuck.net\n",
            "Attrs: {'href': 'http://py4e-data.dr-chuck.net', 'target': '_blank'}\n"
          ],
          "name": "stdout"
        }
      ]
    },
    {
      "cell_type": "markdown",
      "metadata": {
        "id": "_8a0jEedIGep",
        "colab_type": "text"
      },
      "source": [
        "<h4> Scraping Numbers from HTML using Beautiful soup. The program will use urllib to read the HTML from the data files below, and parse the data, extracting numbers and compute the sum of the numbers in the file. \n",
        "  You are to find all the span tags in the file and pull out the numbers from the tag and sum the numbers. "
      ]
    },
    {
      "cell_type": "code",
      "metadata": {
        "id": "m1wOG_jyGtoj",
        "colab_type": "code",
        "colab": {
          "base_uri": "https://localhost:8080/",
          "height": 3669
        },
        "outputId": "571f9988-d264-4c27-f3dc-e188ce42abea"
      },
      "source": [
        "\n",
        "from urllib.request import urlopen\n",
        "from bs4 import BeautifulSoup\n",
        "import ssl\n",
        "\n",
        "# Ignore SSL certificate errors\n",
        "ctx = ssl.create_default_context()\n",
        "ctx.check_hostname = False\n",
        "ctx.verify_mode = ssl.CERT_NONE\n",
        "\n",
        "url = input('Enter - ')\n",
        "if len(url)<1:url=\"http://py4e-data.dr-chuck.net/comments_239076.html\"\n",
        "html = urlopen(url, context=ctx).read()\n",
        "soup = BeautifulSoup(html, \"html.parser\")\n",
        "\n",
        "# Retrieve all of the anchor tags\n",
        "tags = soup('span')\n",
        "sum=0\n",
        "for tag in tags:\n",
        "    # Look at the parts of a tag\n",
        "    print('TAG:', tag)\n",
        "    print('CLASS:',tag.get('class',None))   \n",
        "    sum+=int(tag.contents[0])\n",
        "    print('Contents:', tag.contents[0])\n",
        "    print('Attrs:', tag.attrs)\n"
      ],
      "execution_count": 40,
      "outputs": [
        {
          "output_type": "stream",
          "text": [
            "Enter - \n",
            "TAG: <span class=\"comments\">98</span>\n",
            "CLASS: ['comments']\n",
            "Contents: 98\n",
            "Attrs: {'class': ['comments']}\n",
            "TAG: <span class=\"comments\">98</span>\n",
            "CLASS: ['comments']\n",
            "Contents: 98\n",
            "Attrs: {'class': ['comments']}\n",
            "TAG: <span class=\"comments\">92</span>\n",
            "CLASS: ['comments']\n",
            "Contents: 92\n",
            "Attrs: {'class': ['comments']}\n",
            "TAG: <span class=\"comments\">89</span>\n",
            "CLASS: ['comments']\n",
            "Contents: 89\n",
            "Attrs: {'class': ['comments']}\n",
            "TAG: <span class=\"comments\">88</span>\n",
            "CLASS: ['comments']\n",
            "Contents: 88\n",
            "Attrs: {'class': ['comments']}\n",
            "TAG: <span class=\"comments\">86</span>\n",
            "CLASS: ['comments']\n",
            "Contents: 86\n",
            "Attrs: {'class': ['comments']}\n",
            "TAG: <span class=\"comments\">84</span>\n",
            "CLASS: ['comments']\n",
            "Contents: 84\n",
            "Attrs: {'class': ['comments']}\n",
            "TAG: <span class=\"comments\">83</span>\n",
            "CLASS: ['comments']\n",
            "Contents: 83\n",
            "Attrs: {'class': ['comments']}\n",
            "TAG: <span class=\"comments\">82</span>\n",
            "CLASS: ['comments']\n",
            "Contents: 82\n",
            "Attrs: {'class': ['comments']}\n",
            "TAG: <span class=\"comments\">82</span>\n",
            "CLASS: ['comments']\n",
            "Contents: 82\n",
            "Attrs: {'class': ['comments']}\n",
            "TAG: <span class=\"comments\">82</span>\n",
            "CLASS: ['comments']\n",
            "Contents: 82\n",
            "Attrs: {'class': ['comments']}\n",
            "TAG: <span class=\"comments\">80</span>\n",
            "CLASS: ['comments']\n",
            "Contents: 80\n",
            "Attrs: {'class': ['comments']}\n",
            "TAG: <span class=\"comments\">77</span>\n",
            "CLASS: ['comments']\n",
            "Contents: 77\n",
            "Attrs: {'class': ['comments']}\n",
            "TAG: <span class=\"comments\">73</span>\n",
            "CLASS: ['comments']\n",
            "Contents: 73\n",
            "Attrs: {'class': ['comments']}\n",
            "TAG: <span class=\"comments\">70</span>\n",
            "CLASS: ['comments']\n",
            "Contents: 70\n",
            "Attrs: {'class': ['comments']}\n",
            "TAG: <span class=\"comments\">70</span>\n",
            "CLASS: ['comments']\n",
            "Contents: 70\n",
            "Attrs: {'class': ['comments']}\n",
            "TAG: <span class=\"comments\">69</span>\n",
            "CLASS: ['comments']\n",
            "Contents: 69\n",
            "Attrs: {'class': ['comments']}\n",
            "TAG: <span class=\"comments\">69</span>\n",
            "CLASS: ['comments']\n",
            "Contents: 69\n",
            "Attrs: {'class': ['comments']}\n",
            "TAG: <span class=\"comments\">68</span>\n",
            "CLASS: ['comments']\n",
            "Contents: 68\n",
            "Attrs: {'class': ['comments']}\n",
            "TAG: <span class=\"comments\">66</span>\n",
            "CLASS: ['comments']\n",
            "Contents: 66\n",
            "Attrs: {'class': ['comments']}\n",
            "TAG: <span class=\"comments\">65</span>\n",
            "CLASS: ['comments']\n",
            "Contents: 65\n",
            "Attrs: {'class': ['comments']}\n",
            "TAG: <span class=\"comments\">64</span>\n",
            "CLASS: ['comments']\n",
            "Contents: 64\n",
            "Attrs: {'class': ['comments']}\n",
            "TAG: <span class=\"comments\">62</span>\n",
            "CLASS: ['comments']\n",
            "Contents: 62\n",
            "Attrs: {'class': ['comments']}\n",
            "TAG: <span class=\"comments\">60</span>\n",
            "CLASS: ['comments']\n",
            "Contents: 60\n",
            "Attrs: {'class': ['comments']}\n",
            "TAG: <span class=\"comments\">52</span>\n",
            "CLASS: ['comments']\n",
            "Contents: 52\n",
            "Attrs: {'class': ['comments']}\n",
            "TAG: <span class=\"comments\">52</span>\n",
            "CLASS: ['comments']\n",
            "Contents: 52\n",
            "Attrs: {'class': ['comments']}\n",
            "TAG: <span class=\"comments\">51</span>\n",
            "CLASS: ['comments']\n",
            "Contents: 51\n",
            "Attrs: {'class': ['comments']}\n",
            "TAG: <span class=\"comments\">45</span>\n",
            "CLASS: ['comments']\n",
            "Contents: 45\n",
            "Attrs: {'class': ['comments']}\n",
            "TAG: <span class=\"comments\">44</span>\n",
            "CLASS: ['comments']\n",
            "Contents: 44\n",
            "Attrs: {'class': ['comments']}\n",
            "TAG: <span class=\"comments\">42</span>\n",
            "CLASS: ['comments']\n",
            "Contents: 42\n",
            "Attrs: {'class': ['comments']}\n",
            "TAG: <span class=\"comments\">41</span>\n",
            "CLASS: ['comments']\n",
            "Contents: 41\n",
            "Attrs: {'class': ['comments']}\n",
            "TAG: <span class=\"comments\">37</span>\n",
            "CLASS: ['comments']\n",
            "Contents: 37\n",
            "Attrs: {'class': ['comments']}\n",
            "TAG: <span class=\"comments\">35</span>\n",
            "CLASS: ['comments']\n",
            "Contents: 35\n",
            "Attrs: {'class': ['comments']}\n",
            "TAG: <span class=\"comments\">31</span>\n",
            "CLASS: ['comments']\n",
            "Contents: 31\n",
            "Attrs: {'class': ['comments']}\n",
            "TAG: <span class=\"comments\">30</span>\n",
            "CLASS: ['comments']\n",
            "Contents: 30\n",
            "Attrs: {'class': ['comments']}\n",
            "TAG: <span class=\"comments\">29</span>\n",
            "CLASS: ['comments']\n",
            "Contents: 29\n",
            "Attrs: {'class': ['comments']}\n",
            "TAG: <span class=\"comments\">29</span>\n",
            "CLASS: ['comments']\n",
            "Contents: 29\n",
            "Attrs: {'class': ['comments']}\n",
            "TAG: <span class=\"comments\">29</span>\n",
            "CLASS: ['comments']\n",
            "Contents: 29\n",
            "Attrs: {'class': ['comments']}\n",
            "TAG: <span class=\"comments\">28</span>\n",
            "CLASS: ['comments']\n",
            "Contents: 28\n",
            "Attrs: {'class': ['comments']}\n",
            "TAG: <span class=\"comments\">28</span>\n",
            "CLASS: ['comments']\n",
            "Contents: 28\n",
            "Attrs: {'class': ['comments']}\n",
            "TAG: <span class=\"comments\">12</span>\n",
            "CLASS: ['comments']\n",
            "Contents: 12\n",
            "Attrs: {'class': ['comments']}\n",
            "TAG: <span class=\"comments\">10</span>\n",
            "CLASS: ['comments']\n",
            "Contents: 10\n",
            "Attrs: {'class': ['comments']}\n",
            "TAG: <span class=\"comments\">8</span>\n",
            "CLASS: ['comments']\n",
            "Contents: 8\n",
            "Attrs: {'class': ['comments']}\n",
            "TAG: <span class=\"comments\">7</span>\n",
            "CLASS: ['comments']\n",
            "Contents: 7\n",
            "Attrs: {'class': ['comments']}\n",
            "TAG: <span class=\"comments\">7</span>\n",
            "CLASS: ['comments']\n",
            "Contents: 7\n",
            "Attrs: {'class': ['comments']}\n",
            "TAG: <span class=\"comments\">4</span>\n",
            "CLASS: ['comments']\n",
            "Contents: 4\n",
            "Attrs: {'class': ['comments']}\n",
            "TAG: <span class=\"comments\">2</span>\n",
            "CLASS: ['comments']\n",
            "Contents: 2\n",
            "Attrs: {'class': ['comments']}\n",
            "TAG: <span class=\"comments\">2</span>\n",
            "CLASS: ['comments']\n",
            "Contents: 2\n",
            "Attrs: {'class': ['comments']}\n",
            "TAG: <span class=\"comments\">1</span>\n",
            "CLASS: ['comments']\n",
            "Contents: 1\n",
            "Attrs: {'class': ['comments']}\n",
            "TAG: <span class=\"comments\">1</span>\n",
            "CLASS: ['comments']\n",
            "Contents: 1\n",
            "Attrs: {'class': ['comments']}\n"
          ],
          "name": "stdout"
        }
      ]
    },
    {
      "cell_type": "code",
      "metadata": {
        "id": "cO2R5L40JD9v",
        "colab_type": "code",
        "colab": {
          "base_uri": "https://localhost:8080/",
          "height": 35
        },
        "outputId": "fa156bbb-e2fe-46b0-9066-9d40ab599655"
      },
      "source": [
        "print(sum)\n"
      ],
      "execution_count": 41,
      "outputs": [
        {
          "output_type": "stream",
          "text": [
            "2514\n"
          ],
          "name": "stdout"
        }
      ]
    },
    {
      "cell_type": "markdown",
      "metadata": {
        "id": "R0Ki7Y62Md4p",
        "colab_type": "text"
      },
      "source": [
        "<h4> Find the link at position 18 (the first name is 1). Follow that link. Repeat this process 7 times. The answer is the last name that you retrieve.\n"
      ]
    },
    {
      "cell_type": "code",
      "metadata": {
        "id": "XQCIIBntKylR",
        "colab_type": "code",
        "colab": {
          "base_uri": "https://localhost:8080/",
          "height": 162
        },
        "outputId": "0d1f0f7d-d627-49c9-ae4a-47b337948b1f"
      },
      "source": [
        "\n",
        "import urllib.request, urllib.parse, urllib.error\n",
        "from bs4 import BeautifulSoup\n",
        "import ssl\n",
        "\n",
        "# Ignore SSL certificate errors\n",
        "ctx = ssl.create_default_context()\n",
        "ctx.check_hostname = False\n",
        "ctx.verify_mode = ssl.CERT_NONE\n",
        "\n",
        "url = 'http://py4e-data.dr-chuck.net/known_by_Murdo.html'\n",
        "html = urllib.request.urlopen(url, context=ctx).read()\n",
        "soup = BeautifulSoup(html, 'html.parser')\n",
        "\n",
        "# Retrieve all of the anchor tags\n",
        "tags = soup('a')\n",
        "# for n,tag in enumerate(tags):\n",
        "#     print(tag.get('href', None))\n",
        "count=7\n",
        "position=18\n",
        "print('Retreving:',url)\n",
        "\n",
        "for i in range(count):\n",
        "  link3=tags[position-1].get('href',None)\n",
        "  \n",
        "  print('Retreving:',link3)\n",
        "  \n",
        "  \n",
        "  html3=urllib.request.urlopen(link3,context=ctx).read()\n",
        "  soup3=BeautifulSoup(html3,\"html.parser\")\n",
        "  tags=soup3('a')\n"
      ],
      "execution_count": 68,
      "outputs": [
        {
          "output_type": "stream",
          "text": [
            "Retreving: http://py4e-data.dr-chuck.net/known_by_Murdo.html\n",
            "Retreving: http://py4e-data.dr-chuck.net/known_by_Sukhman.html\n",
            "Retreving: http://py4e-data.dr-chuck.net/known_by_Spencer.html\n",
            "Retreving: http://py4e-data.dr-chuck.net/known_by_Magdalene.html\n",
            "Retreving: http://py4e-data.dr-chuck.net/known_by_Richey.html\n",
            "Retreving: http://py4e-data.dr-chuck.net/known_by_Yuanyu.html\n",
            "Retreving: http://py4e-data.dr-chuck.net/known_by_Aimiee.html\n",
            "Retreving: http://py4e-data.dr-chuck.net/known_by_Eisa.html\n"
          ],
          "name": "stdout"
        }
      ]
    },
    {
      "cell_type": "code",
      "metadata": {
        "id": "LRUdUEhoMnYx",
        "colab_type": "code",
        "colab": {
          "base_uri": "https://localhost:8080/",
          "height": 35
        },
        "outputId": "da82ea74-a764-4b75-9334-636f060230c0"
      },
      "source": [
        "%reset"
      ],
      "execution_count": 57,
      "outputs": [
        {
          "output_type": "stream",
          "text": [
            "Once deleted, variables cannot be recovered. Proceed (y/[n])? y\n"
          ],
          "name": "stdout"
        }
      ]
    },
    {
      "cell_type": "code",
      "metadata": {
        "id": "4zcT4qm-QjnU",
        "colab_type": "code",
        "colab": {}
      },
      "source": [
        ""
      ],
      "execution_count": 0,
      "outputs": []
    }
  ]
}