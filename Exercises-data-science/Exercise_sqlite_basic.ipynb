{
  "nbformat": 4,
  "nbformat_minor": 0,
  "metadata": {
    "colab": {
      "name": "Exercise_sqlite basic.ipynb",
      "version": "0.3.2",
      "provenance": [],
      "collapsed_sections": [],
      "include_colab_link": true
    },
    "kernelspec": {
      "name": "python3",
      "display_name": "Python 3"
    }
  },
  "cells": [
    {
      "cell_type": "markdown",
      "metadata": {
        "id": "view-in-github",
        "colab_type": "text"
      },
      "source": [
        "<a href=\"https://colab.research.google.com/github/iamshirdi/Datascience/blob/master/python/Exercise_sqlite_basic.ipynb\" target=\"_parent\"><img src=\"https://colab.research.google.com/assets/colab-badge.svg\" alt=\"Open In Colab\"/></a>"
      ]
    },
    {
      "cell_type": "markdown",
      "metadata": {
        "id": "ZWiMaWwEWyb3",
        "colab_type": "text"
      },
      "source": [
        "<h4>Counting Email  Organisations in a Database"
      ]
    },
    {
      "cell_type": "code",
      "metadata": {
        "id": "eeK_NiUsWx4O",
        "colab_type": "code",
        "colab": {
          "base_uri": "https://localhost:8080/",
          "height": 489
        },
        "outputId": "5d2b055b-be8f-4002-efc8-f298e3712781"
      },
      "source": [
        "!wget -O mbox-short.txt \"http://www.py4e.com/code3/mbox.txt\"\n",
        "import sqlite3\n",
        "\n",
        "\n",
        "conn = sqlite3.connect('emaildb.sqlite')\n",
        "cur = conn.cursor()\n",
        "\n",
        "cur.execute('DROP TABLE IF EXISTS Counts')\n",
        "\n",
        "cur.execute('''\n",
        "CREATE TABLE Counts (org TEXT, count INTEGER)''')\n",
        "\n",
        "fname = input('Enter file name: ')\n",
        "if (len(fname) < 1): fname = 'mbox-short.txt'\n",
        "fh = open(fname)\n",
        "\n",
        "for line in fh:\n",
        "    if not line.startswith('From: '): continue\n",
        "    pieces = line.split()\n",
        "    p2=pieces[1].split('@')\n",
        "    org = p2[1]\n",
        "    cur.execute('SELECT count FROM Counts WHERE org = ? ', (org,)) #sql injection prevention tuple\n",
        "    \n",
        "    row = cur.fetchone() #note cursor is prepared with email from above statement and fetch checks it by given below if statment\n",
        "    #The  fetchone() method returns the next row of a query result set or None in case there is no row left\n",
        "    \n",
        "    if row is None:\n",
        "        cur.execute('''INSERT INTO Counts (org, count)\n",
        "                VALUES (?, 1)''', (org,))\n",
        "    else:\n",
        "        cur.execute('UPDATE Counts SET count = count + 1 WHERE org = ?',\n",
        "                    (org,))\n",
        "        \n",
        "    conn.commit()\n",
        "\n",
        "# https://www.sqlite.org/lang_select.html\n",
        "sqlstr = 'SELECT org, count FROM Counts ORDER BY count DESC LIMIT 10'\n",
        "\n",
        "for row in cur.execute(sqlstr):\n",
        "    print(str(row[0]), row[1])\n",
        "\n",
        "cur.close()\n",
        "# Because the sample code is using an UPDATE statement and\n",
        "#committing the results to the database as each record is read in the loop, it might take as long as a few minutes to process all the data.\n",
        "#The commit insists on completely writing all the data to disk every time it is called. "
      ],
      "execution_count": 46,
      "outputs": [
        {
          "output_type": "stream",
          "text": [
            "--2019-06-18 11:59:20--  http://www.py4e.com/code3/mbox.txt\n",
            "Resolving www.py4e.com (www.py4e.com)... 104.27.158.166, 104.27.159.166, 2606:4700:30::681b:9ea6, ...\n",
            "Connecting to www.py4e.com (www.py4e.com)|104.27.158.166|:80... connected.\n",
            "HTTP request sent, awaiting response... 301 Moved Permanently\n",
            "Location: https://www.py4e.com/code3/mbox.txt [following]\n",
            "--2019-06-18 11:59:20--  https://www.py4e.com/code3/mbox.txt\n",
            "Connecting to www.py4e.com (www.py4e.com)|104.27.158.166|:443... connected.\n",
            "HTTP request sent, awaiting response... 200 OK\n",
            "Length: unspecified [text/plain]\n",
            "Saving to: ‘mbox-short.txt’\n",
            "\n",
            "mbox-short.txt          [   <=>              ]   6.38M  9.00MB/s    in 0.7s    \n",
            "\n",
            "2019-06-18 11:59:22 (9.00 MB/s) - ‘mbox-short.txt’ saved [6687002]\n",
            "\n",
            "Enter file name: \n",
            "iupui.edu 536\n",
            "umich.edu 491\n",
            "indiana.edu 178\n",
            "caret.cam.ac.uk 157\n",
            "vt.edu 110\n",
            "uct.ac.za 96\n",
            "media.berkeley.edu 56\n",
            "ufp.pt 28\n",
            "gmail.com 25\n",
            "et.gatech.edu 17\n"
          ],
          "name": "stdout"
        }
      ]
    },
    {
      "cell_type": "code",
      "metadata": {
        "id": "dixEeansaEPs",
        "colab_type": "code",
        "colab": {
          "base_uri": "https://localhost:8080/",
          "height": 35
        },
        "outputId": "63fe8cbf-8b0d-4ce9-b237-4eb963aab400"
      },
      "source": [
        "! curl --upload-file ./emaildb.sqlite https://transfer.sh/emaildb.sqlite"
      ],
      "execution_count": 47,
      "outputs": [
        {
          "output_type": "stream",
          "text": [
            "https://transfer.sh/14lXMQ/emaildb.sqlite"
          ],
          "name": "stdout"
        }
      ]
    },
    {
      "cell_type": "markdown",
      "metadata": {
        "id": "uRcuGbilTsk4",
        "colab_type": "text"
      },
      "source": [
        "<h4>SQLite browser to make a database, insert some data and then run query."
      ]
    },
    {
      "cell_type": "code",
      "metadata": {
        "id": "4mW3_gPDTxiB",
        "colab_type": "code",
        "colab": {
          "base_uri": "https://localhost:8080/",
          "height": 35
        },
        "outputId": "17d65643-4a1e-4de9-e477-cd8d2886cd4c"
      },
      "source": [
        "import sqlite3\n",
        "\n",
        "conn = sqlite3.connect('sql1db.sqlite')\n",
        "cur = conn.cursor()\n",
        "\n",
        "cur.execute('DROP TABLE IF EXISTS Ages')"
      ],
      "execution_count": 30,
      "outputs": [
        {
          "output_type": "execute_result",
          "data": {
            "text/plain": [
              "<sqlite3.Cursor at 0x7fdb4fd94880>"
            ]
          },
          "metadata": {
            "tags": []
          },
          "execution_count": 30
        }
      ]
    },
    {
      "cell_type": "code",
      "metadata": {
        "id": "M3i0KclJTsi2",
        "colab_type": "code",
        "outputId": "d122c757-f80e-4310-f0ef-b72689390a6d",
        "colab": {
          "base_uri": "https://localhost:8080/",
          "height": 35
        }
      },
      "source": [
        "cur.execute('''CREATE TABLE Ages ( \n",
        "  name VARCHAR(128), \n",
        "  age INTEGER\n",
        ")''')"
      ],
      "execution_count": 31,
      "outputs": [
        {
          "output_type": "execute_result",
          "data": {
            "text/plain": [
              "<sqlite3.Cursor at 0x7fdb4fd94880>"
            ]
          },
          "metadata": {
            "tags": []
          },
          "execution_count": 31
        }
      ]
    },
    {
      "cell_type": "code",
      "metadata": {
        "id": "8OpXU1LZTvj3",
        "colab_type": "code",
        "colab": {
          "base_uri": "https://localhost:8080/",
          "height": 35
        },
        "outputId": "9ca764f9-cae9-47b8-985d-19a2bae0f784"
      },
      "source": [
        "db1=\"\"\"DELETE FROM Ages;\n",
        "INSERT INTO Ages (name, age) VALUES ('Satveer', 32);\n",
        "INSERT INTO Ages (name, age) VALUES ('Farrah', 24);\n",
        "INSERT INTO Ages (name, age) VALUES ('Sayuri', 29);\n",
        "INSERT INTO Ages (name, age) VALUES ('Ehsan', 34);\"\"\"\n",
        "cur.executescript(db1) #multiline command"
      ],
      "execution_count": 32,
      "outputs": [
        {
          "output_type": "execute_result",
          "data": {
            "text/plain": [
              "<sqlite3.Cursor at 0x7fdb4fd94880>"
            ]
          },
          "metadata": {
            "tags": []
          },
          "execution_count": 32
        }
      ]
    },
    {
      "cell_type": "code",
      "metadata": {
        "id": "DkEycbEIS-Ey",
        "colab_type": "code",
        "colab": {
          "base_uri": "https://localhost:8080/",
          "height": 35
        },
        "outputId": "b04fc3c5-c97a-43f6-a4d7-749e99242f40"
      },
      "source": [
        "print(cur.execute('''SELECT hex(name || age) AS X FROM Ages ORDER BY X'''))\n",
        "sqlobj=cur.execute('SELECT hex(name || age) AS X FROM Ages ORDER BY X')"
      ],
      "execution_count": 33,
      "outputs": [
        {
          "output_type": "stream",
          "text": [
            "<sqlite3.Cursor object at 0x7fdb4fd94880>\n"
          ],
          "name": "stdout"
        }
      ]
    },
    {
      "cell_type": "code",
      "metadata": {
        "id": "Gax-3TloVnQj",
        "colab_type": "code",
        "colab": {
          "base_uri": "https://localhost:8080/",
          "height": 90
        },
        "outputId": "94972d1b-d66a-4e63-e507-239cf4e4b98c"
      },
      "source": [
        "# for row in sqlobj:\n",
        "#     print(str(row[0]))\n",
        "for row in cur: #cursor.exectute in which cursor also has it\n",
        "  print(row)"
      ],
      "execution_count": 34,
      "outputs": [
        {
          "output_type": "stream",
          "text": [
            "('456873616E3334',)\n",
            "('4661727261683234',)\n",
            "('536174766565723332',)\n",
            "('5361797572693239',)\n"
          ],
          "name": "stdout"
        }
      ]
    },
    {
      "cell_type": "code",
      "metadata": {
        "id": "7H1iCMtNUfhj",
        "colab_type": "code",
        "colab": {}
      },
      "source": [
        "conn.commit() #commits to database\n",
        "cur.close()"
      ],
      "execution_count": 0,
      "outputs": []
    },
    {
      "cell_type": "code",
      "metadata": {
        "id": "xlSKoAZjXdsG",
        "colab_type": "code",
        "colab": {}
      },
      "source": [
        ""
      ],
      "execution_count": 0,
      "outputs": []
    }
  ]
}