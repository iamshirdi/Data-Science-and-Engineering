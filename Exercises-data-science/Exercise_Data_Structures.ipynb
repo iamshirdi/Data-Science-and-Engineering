{
  "nbformat": 4,
  "nbformat_minor": 0,
  "metadata": {
    "colab": {
      "name": "Exercise Data Structures.ipynb",
      "version": "0.3.2",
      "provenance": [],
      "collapsed_sections": [],
      "include_colab_link": true
    },
    "kernelspec": {
      "name": "python3",
      "display_name": "Python 3"
    }
  },
  "cells": [
    {
      "cell_type": "markdown",
      "metadata": {
        "id": "view-in-github",
        "colab_type": "text"
      },
      "source": [
        "<a href=\"https://colab.research.google.com/github/iamshirdi/Datascience/blob/master/python/Exercise_Data_Structures.ipynb\" target=\"_parent\"><img src=\"https://colab.research.google.com/assets/colab-badge.svg\" alt=\"Open In Colab\"/></a>"
      ]
    },
    {
      "cell_type": "markdown",
      "metadata": {
        "id": "ctpbJM_GrFHt",
        "colab_type": "text"
      },
      "source": [
        "<h5>Write a program that repeatedly prompts a user for integer numbers until the user enters 'done'. Once 'done' is entered, print out the largest and smallest of the numbers.<br> If the user enters anything other than a valid number catch it with a try/except and put out an appropriate message and ignore the number. <br>Enter 7, 2, bob, 10, and 4 and match the output below: <br>\n",
        "Maximum is 10<br>\n",
        "Minimum is 2"
      ]
    },
    {
      "cell_type": "code",
      "metadata": {
        "id": "y2lJMtqunyer",
        "colab_type": "code",
        "outputId": "2d1e88b4-b724-4fe8-8865-02e0f7bd0014",
        "colab": {
          "base_uri": "https://localhost:8080/",
          "height": 199
        }
      },
      "source": [
        "largest = None\n",
        "smallest = None\n",
        "\n",
        "while True:\n",
        "  \n",
        "\n",
        "  try:\n",
        "      num = input(\"Enter a number: \")\n",
        "      \n",
        "      if num == \"done\" : break\n",
        "      num=int(num)\n",
        "      \n",
        "      if largest==None or smallest==None:\n",
        "          largest=num\n",
        "          smallest=num\n",
        "\n",
        "      if num>largest:largest=num\n",
        "      if num<smallest:smallest=num\n",
        "\n",
        "  except:\n",
        "      print('Invalid input')\n",
        "print()\n",
        "print(\"Maximum is\", largest)\n",
        "print(\"Minimum is\", smallest)"
      ],
      "execution_count": 0,
      "outputs": [
        {
          "output_type": "stream",
          "text": [
            "Enter a number: 7\n",
            "Enter a number: 2\n",
            "Enter a number: bob\n",
            "Invalid input\n",
            "Enter a number: 10\n",
            "Enter a number: 4\n",
            "Enter a number: done\n",
            "\n",
            "Maximum is 10\n",
            "Minimum is 2\n"
          ],
          "name": "stdout"
        }
      ]
    },
    {
      "cell_type": "markdown",
      "metadata": {
        "id": "L5EjZ9I_yiMN",
        "colab_type": "text"
      },
      "source": [
        " <h5>Write a program to prompt the user for hours and rate per hour using input to compute gross pay.<br> Pay should be the normal rate for hours up to 40 and time-and-a-half for the hourly rate for all hours worked above 40 hours.<br> Put the logic to do the computation of pay in a function called computepay() and use the function to do the computation.<br> The function should return a value. Use 45 hours and a rate of 10.50 per hour to test the program (the pay should be 498.75). <br>You should use input to read a string and float() to convert the string to a number. "
      ]
    },
    {
      "cell_type": "code",
      "metadata": {
        "id": "rOCVgpO2n0J1",
        "colab_type": "code",
        "outputId": "6a97155e-dd18-4fa9-fd76-50ce88ddf4c1",
        "colab": {
          "base_uri": "https://localhost:8080/",
          "height": 90
        }
      },
      "source": [
        "def computepay(h,r):\n",
        "    #elgibile for bonus check first otherwise default pay\n",
        "    if h>40:\n",
        "        extra_hours_bonus=h-40\n",
        "        return (extra_hours_bonus*r*1.5)+40*r\n",
        "    else:\n",
        "        return h*r\n",
        "   \n",
        "\n",
        "hrs = input(\"Enter Hours:\")\n",
        "h=float(hrs)\n",
        "rph = input(\"Enter rph:\")\n",
        "r=float(rph)\n",
        "\n",
        "p = computepay(h,r)\n",
        "print(\"Pay\",p)\n",
        "print(type(p))\n",
        "\n",
        "\n"
      ],
      "execution_count": 0,
      "outputs": [
        {
          "output_type": "stream",
          "text": [
            "Enter Hours:45\n",
            "Enter rph:10.50\n",
            "Pay 498.75\n",
            "<class 'float'>\n"
          ],
          "name": "stdout"
        }
      ]
    },
    {
      "cell_type": "markdown",
      "metadata": {
        "id": "w6b155X8eNTb",
        "colab_type": "text"
      },
      "source": [
        " <h5> Write a program that prompts for a file name, then opens that file and reads through the file, looking for lines of the form:\n",
        "\n",
        "X-DSPAM-Confidence:    0.8475\n",
        "\n",
        "Count these lines and extract the floating point values from each of the lines and compute the average of those values and produce an output as shown below. \n",
        "\n"
      ]
    },
    {
      "cell_type": "code",
      "metadata": {
        "id": "D8ceCuuaeENE",
        "colab_type": "code",
        "outputId": "db786606-d27a-4e69-8765-1873135c7b5e",
        "colab": {
          "base_uri": "https://localhost:8080/",
          "height": 310
        }
      },
      "source": [
        "!wget http://www.py4e.com/code3/mbox-short.txt"
      ],
      "execution_count": 6,
      "outputs": [
        {
          "output_type": "stream",
          "text": [
            "--2019-06-12 11:26:45--  http://www.py4e.com/code3/mbox-short.txt\n",
            "Resolving www.py4e.com (www.py4e.com)... 104.27.158.166, 104.27.159.166, 2606:4700:30::681b:9fa6, ...\n",
            "Connecting to www.py4e.com (www.py4e.com)|104.27.158.166|:80... connected.\n",
            "HTTP request sent, awaiting response... 301 Moved Permanently\n",
            "Location: https://www.py4e.com/code3/mbox-short.txt [following]\n",
            "--2019-06-12 11:26:45--  https://www.py4e.com/code3/mbox-short.txt\n",
            "Connecting to www.py4e.com (www.py4e.com)|104.27.158.166|:443... connected.\n",
            "HTTP request sent, awaiting response... 200 OK\n",
            "Length: unspecified [text/plain]\n",
            "Saving to: ‘mbox-short.txt’\n",
            "\n",
            "\rmbox-short.txt          [<=>                 ]       0  --.-KB/s               \rmbox-short.txt          [ <=>                ]  92.41K  --.-KB/s    in 0.007s  \n",
            "\n",
            "2019-06-12 11:26:45 (12.3 MB/s) - ‘mbox-short.txt’ saved [94626]\n",
            "\n"
          ],
          "name": "stdout"
        }
      ]
    },
    {
      "cell_type": "code",
      "metadata": {
        "id": "h7OuytfkekaT",
        "colab_type": "code",
        "outputId": "e9deec04-84a1-48fd-910a-2cdb4c9182ed",
        "colab": {
          "base_uri": "https://localhost:8080/",
          "height": 53
        }
      },
      "source": [
        "# Use the file name mbox-short.txt as the file name\n",
        "fname = input(\"Enter file name: \")\n",
        "fh = open(fname)\n",
        "i=0;sm=0\n",
        "for line in fh:\n",
        "    if not line.startswith(\"X-DSPAM-Confidence:\") : continue\n",
        "    s=line.find(':')\n",
        "    n=float(line[s+1:].lstrip())\n",
        "    i+=1\n",
        "    sm+=n\n",
        "\n",
        "avg=float(sm/i)\n",
        "print('Average spam confidence: '+ str(avg))\n"
      ],
      "execution_count": 0,
      "outputs": [
        {
          "output_type": "stream",
          "text": [
            "Enter file name: mbox-short.txt\n",
            "Average spam confidence: 0.7507185185185187\n"
          ],
          "name": "stdout"
        }
      ]
    },
    {
      "cell_type": "markdown",
      "metadata": {
        "id": "pzLhgLQcTr1_",
        "colab_type": "text"
      },
      "source": [
        "Open the file mbox-short.txt and read it line by line. When you find a line that starts with 'From ' like the following line:\n",
        "\n",
        "From stephen.marquard@uct.ac.za Sat Jan  5 09:14:16 2008\n",
        "\n",
        "You will parse the From line using split() and print out the second word in the line (i.e. the entire address of the person who sent the message). Then print out a count at the end.\n",
        "\n",
        "Hint: make sure not to include the lines that start with 'From:'."
      ]
    },
    {
      "cell_type": "code",
      "metadata": {
        "id": "Iacg5LCMTsuG",
        "colab_type": "code",
        "outputId": "77c3d06b-6086-47a3-99cc-92cf5ac1f45e",
        "colab": {
          "base_uri": "https://localhost:8080/",
          "height": 544
        }
      },
      "source": [
        "fname = input(\"Enter file name: \")\n",
        "if len(fname) < 1 : fname = \"mbox-short.txt\" #enter blank default file\n",
        "\n",
        "fh = open(fname)\n",
        "count = 0\n",
        "for i in fh:\n",
        "    i=i.rstrip()\n",
        "    a=i.split()\n",
        "    if len(a)<3:continue #3 instead of 1 for stronger guardian pattern\n",
        "    if a[0]=='From':\n",
        "        count+=1\n",
        "        print(a[1])\n",
        "#observe blank spaces len or balnk equality compare\n",
        "    \n",
        "    \n",
        "    \n",
        "    \n",
        "print(\"There were\", count, \"lines in the file with From as the first word\")\n"
      ],
      "execution_count": 0,
      "outputs": [
        {
          "output_type": "stream",
          "text": [
            "Enter file name: \n",
            "stephen.marquard@uct.ac.za\n",
            "louis@media.berkeley.edu\n",
            "zqian@umich.edu\n",
            "rjlowe@iupui.edu\n",
            "zqian@umich.edu\n",
            "rjlowe@iupui.edu\n",
            "cwen@iupui.edu\n",
            "cwen@iupui.edu\n",
            "gsilver@umich.edu\n",
            "gsilver@umich.edu\n",
            "zqian@umich.edu\n",
            "gsilver@umich.edu\n",
            "wagnermr@iupui.edu\n",
            "zqian@umich.edu\n",
            "antranig@caret.cam.ac.uk\n",
            "gopal.ramasammycook@gmail.com\n",
            "david.horwitz@uct.ac.za\n",
            "david.horwitz@uct.ac.za\n",
            "david.horwitz@uct.ac.za\n",
            "david.horwitz@uct.ac.za\n",
            "stephen.marquard@uct.ac.za\n",
            "louis@media.berkeley.edu\n",
            "louis@media.berkeley.edu\n",
            "ray@media.berkeley.edu\n",
            "cwen@iupui.edu\n",
            "cwen@iupui.edu\n",
            "cwen@iupui.edu\n",
            "There were 27 lines in the file with From as the first word\n"
          ],
          "name": "stdout"
        }
      ]
    },
    {
      "cell_type": "code",
      "metadata": {
        "id": "Fx8lWQkNettT",
        "colab_type": "code",
        "outputId": "8202e872-1202-4ef3-ca9a-3c37c8baa4b1",
        "colab": {
          "base_uri": "https://localhost:8080/",
          "height": 53
        }
      },
      "source": [
        "a = [1, 2, 3]\n",
        "b = [4, 5, 6]\n",
        "c = a + b #note the append option string concanetation\n",
        "print(c)\n",
        "print(len(c))"
      ],
      "execution_count": 0,
      "outputs": [
        {
          "output_type": "stream",
          "text": [
            "[1, 2, 3, 4, 5, 6]\n",
            "6\n"
          ],
          "name": "stdout"
        }
      ]
    },
    {
      "cell_type": "markdown",
      "metadata": {
        "id": "hfkYNkmwbeRH",
        "colab_type": "text"
      },
      "source": [
        "<h5>Write a program to read through the mbox-short.txt and figure out who has sent the greatest number of mail messages. The program looks for 'From ' lines and takes the second word of those lines as the person who sent the mail. The program creates a Python dictionary that maps the sender's mail address to a count of the number of times they appear in the file. After the dictionary is produced, the program reads through the dictionary using a maximum loop to find the most prolific committer."
      ]
    },
    {
      "cell_type": "code",
      "metadata": {
        "id": "-vgKCUK2mjZM",
        "colab_type": "code",
        "colab": {
          "base_uri": "https://localhost:8080/",
          "height": 53
        },
        "outputId": "44dc92a9-1356-4697-89bb-fd0d42bbcb5c"
      },
      "source": [
        "name = input(\"Enter file:\")\n",
        "if len(name) < 1 : name = \"mbox-short.txt\"\n",
        "handle = open(name)\n",
        "d=dict()\n",
        "email=[]\n",
        "for s in handle:\n",
        "    a=s.rstrip().split()\n",
        "    if len(a)>1 and a[0]=='From':\n",
        "        email.append(a[1])\n",
        "for i in email:\n",
        "    d[i]=d.get(i,0)+1\n",
        "m=0\n",
        "w=0\n",
        "for k,v in d.items():\n",
        "    if v>m:\n",
        "        m=v\n",
        "        w=k\n",
        "print(w,m)"
      ],
      "execution_count": 7,
      "outputs": [
        {
          "output_type": "stream",
          "text": [
            "Enter file:\n",
            "cwen@iupui.edu 5\n"
          ],
          "name": "stdout"
        }
      ]
    },
    {
      "cell_type": "code",
      "metadata": {
        "id": "Hd-SVAbGhHdv",
        "colab_type": "code",
        "colab": {
          "base_uri": "https://localhost:8080/",
          "height": 853
        },
        "outputId": "e5225f1e-97b5-4f8d-a8b2-c7e1bca787e6"
      },
      "source": [
        "l=list()\n",
        "dir(l)"
      ],
      "execution_count": 8,
      "outputs": [
        {
          "output_type": "execute_result",
          "data": {
            "text/plain": [
              "['__add__',\n",
              " '__class__',\n",
              " '__contains__',\n",
              " '__delattr__',\n",
              " '__delitem__',\n",
              " '__dir__',\n",
              " '__doc__',\n",
              " '__eq__',\n",
              " '__format__',\n",
              " '__ge__',\n",
              " '__getattribute__',\n",
              " '__getitem__',\n",
              " '__gt__',\n",
              " '__hash__',\n",
              " '__iadd__',\n",
              " '__imul__',\n",
              " '__init__',\n",
              " '__init_subclass__',\n",
              " '__iter__',\n",
              " '__le__',\n",
              " '__len__',\n",
              " '__lt__',\n",
              " '__mul__',\n",
              " '__ne__',\n",
              " '__new__',\n",
              " '__reduce__',\n",
              " '__reduce_ex__',\n",
              " '__repr__',\n",
              " '__reversed__',\n",
              " '__rmul__',\n",
              " '__setattr__',\n",
              " '__setitem__',\n",
              " '__sizeof__',\n",
              " '__str__',\n",
              " '__subclasshook__',\n",
              " 'append',\n",
              " 'clear',\n",
              " 'copy',\n",
              " 'count',\n",
              " 'extend',\n",
              " 'index',\n",
              " 'insert',\n",
              " 'pop',\n",
              " 'remove',\n",
              " 'reverse',\n",
              " 'sort']"
            ]
          },
          "metadata": {
            "tags": []
          },
          "execution_count": 8
        }
      ]
    },
    {
      "cell_type": "code",
      "metadata": {
        "id": "9xi3NFK-hM6U",
        "colab_type": "code",
        "colab": {
          "base_uri": "https://localhost:8080/",
          "height": 617
        },
        "outputId": "c6d4f1b1-7974-4b39-bc3d-8599219dba8b"
      },
      "source": [
        "t=tuple()\n",
        "dir(t)"
      ],
      "execution_count": 11,
      "outputs": [
        {
          "output_type": "execute_result",
          "data": {
            "text/plain": [
              "['__add__',\n",
              " '__class__',\n",
              " '__contains__',\n",
              " '__delattr__',\n",
              " '__dir__',\n",
              " '__doc__',\n",
              " '__eq__',\n",
              " '__format__',\n",
              " '__ge__',\n",
              " '__getattribute__',\n",
              " '__getitem__',\n",
              " '__getnewargs__',\n",
              " '__gt__',\n",
              " '__hash__',\n",
              " '__init__',\n",
              " '__init_subclass__',\n",
              " '__iter__',\n",
              " '__le__',\n",
              " '__len__',\n",
              " '__lt__',\n",
              " '__mul__',\n",
              " '__ne__',\n",
              " '__new__',\n",
              " '__reduce__',\n",
              " '__reduce_ex__',\n",
              " '__repr__',\n",
              " '__rmul__',\n",
              " '__setattr__',\n",
              " '__sizeof__',\n",
              " '__str__',\n",
              " '__subclasshook__',\n",
              " 'count',\n",
              " 'index']"
            ]
          },
          "metadata": {
            "tags": []
          },
          "execution_count": 11
        }
      ]
    },
    {
      "cell_type": "markdown",
      "metadata": {
        "id": "OkkTxfmWtov7",
        "colab_type": "text"
      },
      "source": [
        "<h5>\n",
        "  Write a program to read through the mbox-short.txt and figure out the distribution by hour of the day for each of the messages. You can pull the hour out from the 'From ' line by finding the time and then splitting the string a second time using a colon.\n",
        "\n",
        "From stephen.marquard@uct.ac.za Sat Jan  5 09:14:16 2008\n",
        "\n",
        "Once you have accumulated the counts for each hour, print out the counts, sorted by hour as shown below."
      ]
    },
    {
      "cell_type": "code",
      "metadata": {
        "id": "rnPILwnqm3Rk",
        "colab_type": "code",
        "colab": {
          "base_uri": "https://localhost:8080/",
          "height": 253
        },
        "outputId": "22d46ebc-6552-4b39-9aef-7a744c3f740e"
      },
      "source": [
        "name = input(\"Enter file:\")\n",
        "if len(name) < 1 : name = \"mbox-short.txt\"\n",
        "handle = open(name)\n",
        "time=list()\n",
        "h=list()\n",
        "d=dict()\n",
        "for l in handle:\n",
        "    s=l.rstrip().split()\n",
        "    if len(s)>0 and s[0]=='From':\n",
        "        time.append(s[-2])\n",
        "for j in time:\n",
        "    k=j.split(':')\n",
        "    h.append(k[0])\n",
        "for w in h:\n",
        "    d[w]=d.get(w,0)+1\n",
        "    \n",
        "for k,v in sorted(d.items()):\n",
        "    v,k=k,v\n",
        "    print(v,k)"
      ],
      "execution_count": 12,
      "outputs": [
        {
          "output_type": "stream",
          "text": [
            "Enter file:\n",
            "04 3\n",
            "06 1\n",
            "07 1\n",
            "09 2\n",
            "10 3\n",
            "11 6\n",
            "14 1\n",
            "15 2\n",
            "16 4\n",
            "17 2\n",
            "18 1\n",
            "19 1\n"
          ],
          "name": "stdout"
        }
      ]
    },
    {
      "cell_type": "code",
      "metadata": {
        "id": "hyV2PGGbtwIA",
        "colab_type": "code",
        "colab": {}
      },
      "source": [
        ""
      ],
      "execution_count": 0,
      "outputs": []
    }
  ]
}