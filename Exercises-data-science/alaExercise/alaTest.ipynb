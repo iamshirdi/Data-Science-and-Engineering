{
  "nbformat": 4,
  "nbformat_minor": 0,
  "metadata": {
    "colab": {
      "name": "alaTest.ipynb",
      "version": "0.3.2",
      "provenance": [],
      "collapsed_sections": [],
      "include_colab_link": true
    },
    "kernelspec": {
      "name": "python3",
      "display_name": "Python 3"
    }
  },
  "cells": [
    {
      "cell_type": "markdown",
      "metadata": {
        "id": "view-in-github",
        "colab_type": "text"
      },
      "source": [
        "<a href=\"https://colab.research.google.com/github/iamshirdi/Datascience/blob/master/python/alaTest/alaTest.ipynb\" target=\"_parent\"><img src=\"https://colab.research.google.com/assets/colab-badge.svg\" alt=\"Open In Colab\"/></a>"
      ]
    },
    {
      "cell_type": "markdown",
      "metadata": {
        "id": "R8Cp2-mr_7m9",
        "colab_type": "text"
      },
      "source": [
        "###Goal\n",
        "- higher number per operator first then\n",
        "- cheaper per operator\n",
        "\n",
        "## ALGORITHM\n",
        "\n",
        "\n",
        "- order by highest number per operator\n",
        "- break if found large number at starting per operator\n",
        "- select cheap operator among highest number preference cost\n"
      ]
    },
    {
      "cell_type": "code",
      "metadata": {
        "id": "ObfYLkRlAJbp",
        "colab_type": "code",
        "colab": {}
      },
      "source": [
        "opA = {\n",
        "    1: 0.9,\n",
        "    268: 5.1,\n",
        "    46: 0.17,\n",
        "    4620: 0.0,\n",
        "    468: 0.15,\n",
        "    4631: 0.15,\n",
        "    4673: 0.9,\n",
        "    46732: 1.1\n",
        "}\n",
        "\n",
        "opB = {\n",
        "    1: 0.92,\n",
        "    44: 0.5,\n",
        "    46: 0.2,\n",
        "    467: 1.0,\n",
        "    48: 1.2\n",
        "}\n",
        "\n"
      ],
      "execution_count": 0,
      "outputs": []
    },
    {
      "cell_type": "code",
      "metadata": {
        "id": "mNW46q2piPOI",
        "colab_type": "code",
        "colab": {
          "base_uri": "https://localhost:8080/",
          "height": 34
        },
        "outputId": "b4f5f245-b984-438a-98af-a5751c83120a"
      },
      "source": [
        "number=str(4673212345) \n",
        "price_A=-1    \n",
        "for k in opA:\n",
        "  if number.find(str(k))==0:\n",
        "    price_A=opA[k]\n",
        "    print(price_A)\n",
        "    break\n",
        "  "
      ],
      "execution_count": 10,
      "outputs": [
        {
          "output_type": "stream",
          "text": [
            "0.17\n"
          ],
          "name": "stdout"
        }
      ]
    },
    {
      "cell_type": "code",
      "metadata": {
        "id": "LyZpHm6vlcDY",
        "colab_type": "code",
        "colab": {
          "base_uri": "https://localhost:8080/",
          "height": 34
        },
        "outputId": "2924c43f-668a-4fc8-a2e8-b9c1c8b778da"
      },
      "source": [
        "price_B=-1\n",
        "\n",
        "for k in sorted(opB,reverse=True):\n",
        "  if number.find(str(k))==0:\n",
        "    price_B=opB[k]\n",
        "    print(price_B)\n",
        "    break\n",
        "  "
      ],
      "execution_count": 11,
      "outputs": [
        {
          "output_type": "stream",
          "text": [
            "1.0\n"
          ],
          "name": "stdout"
        }
      ]
    },
    {
      "cell_type": "code",
      "metadata": {
        "id": "ezj-QYJnmH_6",
        "colab_type": "code",
        "colab": {
          "base_uri": "https://localhost:8080/",
          "height": 34
        },
        "outputId": "b22214f4-c4cc-48c4-aa9a-e9e9f77be990"
      },
      "source": [
        "if price_A==-1 and price_B==-1:\n",
        "  print(\"Wrong Number\")\n",
        "elif price_A>price_B:\n",
        "  print(\"Operator B is cheaper\")\n",
        "elif price_A<price_B:\n",
        "  print(\"Operator A is cheaper\")\n",
        "else:\n",
        "  print(\"Operator A and B are cheaper-same price\")\n",
        "  "
      ],
      "execution_count": 12,
      "outputs": [
        {
          "output_type": "stream",
          "text": [
            "Operator A is cheaper\n"
          ],
          "name": "stdout"
        }
      ]
    },
    {
      "cell_type": "code",
      "metadata": {
        "id": "Ngox8AsuQLRl",
        "colab_type": "code",
        "colab": {}
      },
      "source": [
        ""
      ],
      "execution_count": 0,
      "outputs": []
    },
    {
      "cell_type": "code",
      "metadata": {
        "id": "eBf7NOFzTa3O",
        "colab_type": "code",
        "colab": {}
      },
      "source": [
        ""
      ],
      "execution_count": 0,
      "outputs": []
    }
  ]
}