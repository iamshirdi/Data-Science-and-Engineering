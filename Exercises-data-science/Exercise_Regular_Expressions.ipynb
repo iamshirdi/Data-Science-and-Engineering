{
  "nbformat": 4,
  "nbformat_minor": 0,
  "metadata": {
    "colab": {
      "name": "Exercise Regular Expressions.ipynb",
      "version": "0.3.2",
      "provenance": [],
      "include_colab_link": true
    },
    "kernelspec": {
      "name": "python3",
      "display_name": "Python 3"
    }
  },
  "cells": [
    {
      "cell_type": "markdown",
      "metadata": {
        "id": "view-in-github",
        "colab_type": "text"
      },
      "source": [
        "<a href=\"https://colab.research.google.com/github/iamshirdi/Datascience/blob/master/python/Exercise_Regular_Expressions.ipynb\" target=\"_parent\"><img src=\"https://colab.research.google.com/assets/colab-badge.svg\" alt=\"Open In Colab\"/></a>"
      ]
    },
    {
      "cell_type": "markdown",
      "metadata": {
        "id": "qtKDlPrm_WtJ",
        "colab_type": "text"
      },
      "source": [
        "<h4> Regular Expressions</h4>\n",
        "<pre>\n",
        "^\tMatches the beginning of a line\n",
        "$\tMatches the end of the line\n",
        ".\tMatches any character\n",
        "\\s\tMatches whitespace\n",
        "\\S\tMatches any non-whitespace character\n",
        "*\tRepeats a character zero or more times\n",
        "*?\tRepeats a character zero or more times (non-greedy)\n",
        "+\tRepeats a character one or more times\n",
        "+?\tRepeats a character one or more times (non-greedy)\n",
        "[aeiou]\tMatches a single character in the listed set\n",
        "[^XYZ]\tMatches a single character not in the listed set\n",
        "[a-z0-9]\tThe set of characters can include a range\n",
        "(\tIndicates where string extraction is to start\n",
        ")\tIndicates where string extraction is to end\n",
        "\n",
        "</pre>\n",
        "https://docs.python.org/3/howto/regex.html\n"
      ]
    },
    {
      "cell_type": "markdown",
      "metadata": {
        "id": "XVh9pRj3KSIt",
        "colab_type": "text"
      },
      "source": [
        "<h4>\n",
        "  Which of the following regular expressions would extract 'uct.ac.za' from this string using re.findall?"
      ]
    },
    {
      "cell_type": "code",
      "metadata": {
        "id": "feQS8MDTJ7N9",
        "colab_type": "code",
        "outputId": "780fa94c-86cc-4bdb-95a8-05f42071401e",
        "colab": {
          "base_uri": "https://localhost:8080/",
          "height": 35
        }
      },
      "source": [
        "import re\n",
        "s=\"From stephen.marquard@uct.ac.za Sat Jan  5 09:14:16 2008\"\n",
        "re.findall('@(\\S+)',s) #returns list of strings"
      ],
      "execution_count": 0,
      "outputs": [
        {
          "output_type": "execute_result",
          "data": {
            "text/plain": [
              "['uct.ac.za']"
            ]
          },
          "metadata": {
            "tags": []
          },
          "execution_count": 74
        }
      ]
    },
    {
      "cell_type": "markdown",
      "metadata": {
        "id": "zfVn6dyEA266",
        "colab_type": "text"
      },
      "source": [
        "<h4>Regular expressions to extract the URL from this line of HTML"
      ]
    },
    {
      "cell_type": "code",
      "metadata": {
        "id": "WhC6N4iIA3LH",
        "colab_type": "code",
        "colab": {
          "base_uri": "https://localhost:8080/",
          "height": 35
        },
        "outputId": "40a3cfaa-0012-47a7-bfd7-bcd91e10035a"
      },
      "source": [
        "import re\n",
        "s=\"<p>Please click <a href=\\\"http://www.dr-chuck.com\\\">here</a></p>\"\n",
        "re.findall('href=\"(.+)\"',s)"
      ],
      "execution_count": 3,
      "outputs": [
        {
          "output_type": "execute_result",
          "data": {
            "text/plain": [
              "['http://www.dr-chuck.com']"
            ]
          },
          "metadata": {
            "tags": []
          },
          "execution_count": 3
        }
      ]
    },
    {
      "cell_type": "markdown",
      "metadata": {
        "id": "pajB6DNdLW-5",
        "colab_type": "text"
      },
      "source": [
        "<h5>\n",
        "  Greedy Algorithm  Example<br>\n",
        "  Extract From  doesnt stop with single '':''<br>\n"
      ]
    },
    {
      "cell_type": "code",
      "metadata": {
        "id": "M_jXWlDYJ8OK",
        "colab_type": "code",
        "outputId": "80bf1b3a-bb3d-4743-b943-6db013f42007",
        "colab": {
          "base_uri": "https://localhost:8080/",
          "height": 35
        }
      },
      "source": [
        "x = 'From: Using the : character'\n",
        "y = re.findall('^F.+:', x)\n",
        "print(y)"
      ],
      "execution_count": 0,
      "outputs": [
        {
          "output_type": "stream",
          "text": [
            "['From: Using the :']\n"
          ],
          "name": "stdout"
        }
      ]
    },
    {
      "cell_type": "markdown",
      "metadata": {
        "id": "rC3o1-8HNN_W",
        "colab_type": "text"
      },
      "source": [
        "<h4> Extract Email from Text\n",
        "  <br>\n",
        "  we make use of before and after( non breaking spaces multiple for this) of @ keyword "
      ]
    },
    {
      "cell_type": "code",
      "metadata": {
        "id": "VDs-mceuNMyR",
        "colab_type": "code",
        "outputId": "2082fe7e-7376-404a-d12d-06377fcc0890",
        "colab": {
          "base_uri": "https://localhost:8080/",
          "height": 35
        }
      },
      "source": [
        "s=\"From stephen.marquard@uct.ac.za Sat Jan  5 09:14:16 2008\"\n",
        "re.findall( '\\S+?@\\S+',s) #find non breaking spaces multiple(+) till we get @ then extract till u find next non breaking space multiple"
      ],
      "execution_count": 0,
      "outputs": [
        {
          "output_type": "execute_result",
          "data": {
            "text/plain": [
              "['stephen.marquard@uct.ac.za']"
            ]
          },
          "metadata": {
            "tags": []
          },
          "execution_count": 76
        }
      ]
    },
    {
      "cell_type": "markdown",
      "metadata": {
        "id": "jFhc0ea4RO5L",
        "colab_type": "text"
      },
      "source": [
        "<style> h3 {color:blue}</style>\n",
        "<h3> Program :Extracting Numbers from Text and adding"
      ]
    },
    {
      "cell_type": "code",
      "metadata": {
        "id": "PaU_lkiQAqqw",
        "colab_type": "code",
        "outputId": "930d8d0d-4e39-4d79-b29b-a9e6a38ee14e",
        "colab": {
          "base_uri": "https://localhost:8080/",
          "height": 35
        }
      },
      "source": [
        "!touch sample.txt && ls"
      ],
      "execution_count": 0,
      "outputs": [
        {
          "output_type": "stream",
          "text": [
            "sample_data  sample.txt\n"
          ],
          "name": "stdout"
        }
      ]
    },
    {
      "cell_type": "code",
      "metadata": {
        "id": "phUhJatbA20V",
        "colab_type": "code",
        "colab": {}
      },
      "source": [
        "!printf \"Why should you learn to write programs? 7746\\n 12 1929 8827\\n Writing programs (or programming) is a very creative \\n 7 and rewarding activity.  You can write programs for \\n many reasons, ranging from making your living to solving\\n 8837 a difficult data analysis problem to having fun to helping 128\\n someone else solve a problem.  This book assumes that \\n everyone needs to know how to program ...\" > sample.txt\n",
        "#or echo -e to use back slashes\n",
        "#or write using python"
      ],
      "execution_count": 0,
      "outputs": []
    },
    {
      "cell_type": "code",
      "metadata": {
        "id": "lDVMxIeMBK75",
        "colab_type": "code",
        "outputId": "778b6f31-ca39-4cdc-bf0b-ac002ec6f344",
        "colab": {
          "base_uri": "https://localhost:8080/",
          "height": 162
        }
      },
      "source": [
        "!cat sample.txt"
      ],
      "execution_count": 0,
      "outputs": [
        {
          "output_type": "stream",
          "text": [
            "Why should you learn to write programs? 7746\n",
            " 12 1929 8827\n",
            " Writing programs (or programming) is a very creative \n",
            " 7 and rewarding activity.  You can write programs for \n",
            " many reasons, ranging from making your living to solving\n",
            " 8837 a difficult data analysis problem to having fun to helping 128\n",
            " someone else solve a problem.  This book assumes that \n",
            " everyone needs to know how to program ..."
          ],
          "name": "stdout"
        }
      ]
    },
    {
      "cell_type": "code",
      "metadata": {
        "id": "HAlwnDFlCjxn",
        "colab_type": "code",
        "outputId": "023bafae-7e3a-4af7-bbe0-5f2936bf7323",
        "colab": {
          "base_uri": "https://localhost:8080/",
          "height": 35
        }
      },
      "source": [
        "import re\n",
        "fhandler=open('sample.txt')\n",
        "print(fhandler)"
      ],
      "execution_count": 0,
      "outputs": [
        {
          "output_type": "stream",
          "text": [
            "<_io.TextIOWrapper name='sample.txt' mode='r' encoding='UTF-8'>\n"
          ],
          "name": "stdout"
        }
      ]
    },
    {
      "cell_type": "code",
      "metadata": {
        "id": "tc0tTpj0EgUN",
        "colab_type": "code",
        "outputId": "85ac7f8d-a547-429f-c5b8-ee813aae126b",
        "colab": {
          "base_uri": "https://localhost:8080/",
          "height": 55
        }
      },
      "source": [
        "str=fhandler.read()\n",
        "str"
      ],
      "execution_count": 0,
      "outputs": [
        {
          "output_type": "execute_result",
          "data": {
            "text/plain": [
              "'Why should you learn to write programs? 7746\\n 12 1929 8827\\n Writing programs (or programming) is a very creative \\n 7 and rewarding activity.  You can write programs for \\n many reasons, ranging from making your living to solving\\n 8837 a difficult data analysis problem to having fun to helping 128\\n someone else solve a problem.  This book assumes that \\n everyone needs to know how to program ...'"
            ]
          },
          "metadata": {
            "tags": []
          },
          "execution_count": 24
        }
      ]
    },
    {
      "cell_type": "code",
      "metadata": {
        "id": "w2rVCp3vC5XM",
        "colab_type": "code",
        "outputId": "9e5bc7ff-56d4-4366-d404-99d8e49a2482",
        "colab": {
          "base_uri": "https://localhost:8080/",
          "height": 35
        }
      },
      "source": [
        "l=re.findall('[0-9]+',str) #matches numbers between 0 and 9 only and repeates a character more than once greedly\n",
        "l #and extracts strings as seperate list"
      ],
      "execution_count": 0,
      "outputs": [
        {
          "output_type": "execute_result",
          "data": {
            "text/plain": [
              "['7746', '12', '1929', '8827', '7', '8837', '128']"
            ]
          },
          "metadata": {
            "tags": []
          },
          "execution_count": 27
        }
      ]
    },
    {
      "cell_type": "code",
      "metadata": {
        "id": "4r3rMj6TR_Ub",
        "colab_type": "code",
        "outputId": "13a87435-def1-4523-cd93-5e45db4ed712",
        "colab": {
          "base_uri": "https://localhost:8080/",
          "height": 417
        }
      },
      "source": [
        "#make note of space and greddienss\n",
        "#without end like above from example : it just goes on and above numbers default it took space\n",
        "l=re.findall('[0-9]+?',str) #matches numbers between 0 and 9 non greedy\n",
        "l #and extracts strings as seperate list"
      ],
      "execution_count": 0,
      "outputs": [
        {
          "output_type": "execute_result",
          "data": {
            "text/plain": [
              "['7',\n",
              " '7',\n",
              " '4',\n",
              " '6',\n",
              " '1',\n",
              " '2',\n",
              " '1',\n",
              " '9',\n",
              " '2',\n",
              " '9',\n",
              " '8',\n",
              " '8',\n",
              " '2',\n",
              " '7',\n",
              " '7',\n",
              " '8',\n",
              " '8',\n",
              " '3',\n",
              " '7',\n",
              " '1',\n",
              " '2',\n",
              " '8']"
            ]
          },
          "metadata": {
            "tags": []
          },
          "execution_count": 84
        }
      ]
    },
    {
      "cell_type": "code",
      "metadata": {
        "id": "U0XKqeFqDQJb",
        "colab_type": "code",
        "outputId": "eabcb52b-b3c2-4440-e2b9-4efe199fc0d3",
        "colab": {
          "base_uri": "https://localhost:8080/",
          "height": 35
        }
      },
      "source": [
        "sum([int(i) for i in l])"
      ],
      "execution_count": 0,
      "outputs": [
        {
          "output_type": "execute_result",
          "data": {
            "text/plain": [
              "27486"
            ]
          },
          "metadata": {
            "tags": []
          },
          "execution_count": 31
        }
      ]
    },
    {
      "cell_type": "code",
      "metadata": {
        "id": "SFNMItEOFZrJ",
        "colab_type": "code",
        "outputId": "a1966713-c5f1-43d5-964a-9aa9d2e80e19",
        "colab": {
          "base_uri": "https://localhost:8080/",
          "height": 235
        }
      },
      "source": [
        "!wget -O test.txt \"http://py4e-data.dr-chuck.net/regex_sum_239074.txt\" && ls"
      ],
      "execution_count": 0,
      "outputs": [
        {
          "output_type": "stream",
          "text": [
            "--2019-06-12 14:42:04--  http://py4e-data.dr-chuck.net/regex_sum_239074.txt\n",
            "Resolving py4e-data.dr-chuck.net (py4e-data.dr-chuck.net)... 104.25.1.31, 104.25.0.31, 2606:4700:20::6819:11f, ...\n",
            "Connecting to py4e-data.dr-chuck.net (py4e-data.dr-chuck.net)|104.25.1.31|:80... connected.\n",
            "HTTP request sent, awaiting response... 200 OK\n",
            "Length: unspecified [text/plain]\n",
            "Saving to: ‘test.txt’\n",
            "\n",
            "\rtest.txt                [<=>                 ]       0  --.-KB/s               \rtest.txt                [ <=>                ]  27.88K  --.-KB/s    in 0s      \n",
            "\n",
            "2019-06-12 14:42:04 (252 MB/s) - ‘test.txt’ saved [28544]\n",
            "\n",
            "test.txt\n"
          ],
          "name": "stdout"
        }
      ]
    },
    {
      "cell_type": "code",
      "metadata": {
        "id": "2hayM0m4GE9P",
        "colab_type": "code",
        "outputId": "0d1bfe7f-d20c-457a-9ad5-72b8e2d17c9a",
        "colab": {
          "base_uri": "https://localhost:8080/",
          "height": 35
        }
      },
      "source": [
        "handler=open('test.txt')\n",
        "str2=handler.read()\n",
        "             \n",
        "sum([int(i) for i in re.findall('[0-9]+',str2)])\n"
      ],
      "execution_count": 0,
      "outputs": [
        {
          "output_type": "execute_result",
          "data": {
            "text/plain": [
              "393781"
            ]
          },
          "metadata": {
            "tags": []
          },
          "execution_count": 63
        }
      ]
    },
    {
      "cell_type": "code",
      "metadata": {
        "id": "vUsCS4KMGZ5h",
        "colab_type": "code",
        "outputId": "890a7341-f852-49af-d54e-c4965b8c5e79",
        "colab": {
          "base_uri": "https://localhost:8080/",
          "height": 35
        }
      },
      "source": [
        "len(re.findall('[0-9]+',str2)) # how many numbers"
      ],
      "execution_count": 0,
      "outputs": [
        {
          "output_type": "execute_result",
          "data": {
            "text/plain": [
              "83"
            ]
          },
          "metadata": {
            "tags": []
          },
          "execution_count": 64
        }
      ]
    },
    {
      "cell_type": "code",
      "metadata": {
        "id": "AoepaGv6Hg_4",
        "colab_type": "code",
        "colab": {}
      },
      "source": [
        ""
      ],
      "execution_count": 0,
      "outputs": []
    }
  ]
}