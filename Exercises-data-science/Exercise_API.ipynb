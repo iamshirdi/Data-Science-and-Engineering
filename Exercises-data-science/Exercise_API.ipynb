{
  "nbformat": 4,
  "nbformat_minor": 0,
  "metadata": {
    "colab": {
      "name": "Exercise API.ipynb",
      "version": "0.3.2",
      "provenance": [],
      "collapsed_sections": [],
      "include_colab_link": true
    },
    "kernelspec": {
      "name": "python3",
      "display_name": "Python 3"
    }
  },
  "cells": [
    {
      "cell_type": "markdown",
      "metadata": {
        "id": "view-in-github",
        "colab_type": "text"
      },
      "source": [
        "<a href=\"https://colab.research.google.com/github/iamshirdi/Datascience/blob/master/python/Exercise_API.ipynb\" target=\"_parent\"><img src=\"https://colab.research.google.com/assets/colab-badge.svg\" alt=\"Open In Colab\"/></a>"
      ]
    },
    {
      "cell_type": "markdown",
      "metadata": {
        "id": "GphcSNQohjTH",
        "colab_type": "text"
      },
      "source": [
        " <h4> You are to look through all the comment tags and find the count values then sum the numbers .\n",
        "  <hr>\n",
        "   An XPath selector string to look through the entire tree of XML for any tag named 'count' with the following line of code: "
      ]
    },
    {
      "cell_type": "code",
      "metadata": {
        "id": "MA-U9qxhhNVX",
        "colab_type": "code",
        "outputId": "6e0bacec-a57e-4675-e5de-ca06191dc477",
        "colab": {
          "base_uri": "https://localhost:8080/",
          "height": 72
        }
      },
      "source": [
        "#http://py4e-data.dr-chuck.net/comments_42.xml\n",
        "import urllib.request, urllib.parse, urllib.error\n",
        "import xml.etree.ElementTree as ET\n",
        "import ssl\n",
        "\n",
        "\n",
        "# Ignore SSL certificate errors\n",
        "ctx = ssl.create_default_context()\n",
        "ctx.check_hostname = False\n",
        "ctx.verify_mode = ssl.CERT_NONE\n",
        "\n",
        "\n",
        "address = 'http://py4e-data.dr-chuck.net/comments_42.xml'\n",
        "\n",
        "uh = urllib.request.urlopen(address, context=ctx)\n",
        "\n",
        "data = uh.read()\n",
        "print('Retrieved', len(data), 'characters')\n",
        "dec=data.decode()\n",
        "# print(dec)\n",
        "tree = ET.fromstring(dec)\n",
        "root=tree.tag\n",
        "print(root)\n",
        "all = tree.findall('.//count')\n",
        "s=0\n",
        "for i in all:\n",
        "  s+=int(i.text)\n",
        "#     location = results[0].find('formatted_address').text\n",
        "\n",
        "print('sum=',s)"
      ],
      "execution_count": 1,
      "outputs": [
        {
          "output_type": "stream",
          "text": [
            "Retrieved 4189 characters\n",
            "commentinfo\n",
            "sum= 2553\n"
          ],
          "name": "stdout"
        }
      ]
    },
    {
      "cell_type": "markdown",
      "metadata": {
        "id": "H8jSKYCJxkAq",
        "colab_type": "text"
      },
      "source": [
        "<h4>Element.findall() finds only elements with a tag which are direct children of the current element. Element.find() finds the first child with a particular tag, and Element.text accesses the element’s text content. Element.get() accesses the element’s attributes:\n",
        "\n",
        "\n",
        "  <br>\n",
        "  <h4> XML API \n",
        "    <br>\n",
        " \n",
        "    https://www.py4e.com/code3/geoxml.py"
      ]
    },
    {
      "cell_type": "code",
      "metadata": {
        "id": "Q3M124AhiKgu",
        "colab_type": "code",
        "outputId": "f5b4fba5-1e34-4fb2-beb5-dd86745c1963",
        "colab": {
          "base_uri": "https://localhost:8080/",
          "height": 308
        }
      },
      "source": [
        "\n",
        "import urllib.request, urllib.parse, urllib.error\n",
        "import xml.etree.ElementTree as ET\n",
        "import ssl\n",
        "\n",
        "\n",
        "# Ignore SSL certificate errors\n",
        "ctx = ssl.create_default_context()\n",
        "ctx.check_hostname = False\n",
        "ctx.verify_mode = ssl.CERT_NONE\n",
        "\n",
        "\n",
        "address = 'http://py4e-data.dr-chuck.net/comments_239078.xml'\n",
        "\n",
        "uh = urllib.request.urlopen(address, context=ctx)\n",
        "\n",
        "data = uh.read()\n",
        "print('Retrieved', len(data), 'characters')\n",
        "dec=data.decode()\n",
        "# print(dec)\n",
        "tree = ET.fromstring(dec)\n",
        "root=tree.tag\n",
        "print(root)\n",
        "\n",
        "all = tree.findall('comments/comment')\n",
        "sum=0\n",
        "for i in all: #list object can directly induce too has all[0] and all[1]\n",
        "  ct = i.find('count').text #string type\n",
        "  if sum<1000:print(ct)\n",
        "  sum+=int(ct)\n",
        "print('sum =',sum)"
      ],
      "execution_count": 0,
      "outputs": [
        {
          "output_type": "stream",
          "text": [
            "Retrieved 4219 characters\n",
            "commentinfo\n",
            "97\n",
            "91\n",
            "88\n",
            "85\n",
            "85\n",
            "84\n",
            "81\n",
            "79\n",
            "76\n",
            "72\n",
            "72\n",
            "71\n",
            "67\n",
            "sum = 2150\n"
          ],
          "name": "stdout"
        }
      ]
    },
    {
      "cell_type": "markdown",
      "metadata": {
        "id": "gymzlQI1IRx4",
        "colab_type": "text"
      },
      "source": [
        "<h4>Rread the JSON data from that URL using urllib and then parse and extract the comment counts from the JSON data, compute the sum of the numbers in the file."
      ]
    },
    {
      "cell_type": "code",
      "metadata": {
        "id": "NAsdYNUnwqdq",
        "colab_type": "code",
        "colab": {
          "base_uri": "https://localhost:8080/",
          "height": 110
        },
        "outputId": "53cb209e-b743-44e0-94aa-53f4e9cabfbb"
      },
      "source": [
        "import urllib.request, urllib.parse, urllib.error\n",
        "import json\n",
        "\n",
        "# Ignore SSL certificate errors\n",
        "ctx = ssl.create_default_context()\n",
        "ctx.check_hostname = False\n",
        "ctx.verify_mode = ssl.CERT_NONE\n",
        "\n",
        "\n",
        "address = 'http://py4e-data.dr-chuck.net/comments_239079.json'\n",
        "\n",
        "uh = urllib.request.urlopen(address, context=ctx)\n",
        "\n",
        "data = uh.read().decode()\n",
        "\n",
        "info = json.loads(data)\n",
        "print('Data count:', len(info))\n",
        "s=0\n",
        "print(info)\n",
        "for i in info['comments']:\n",
        "  s+=int(i['count'])\n",
        "print('============')\n",
        "print('sum of count :',s)"
      ],
      "execution_count": 14,
      "outputs": [
        {
          "output_type": "stream",
          "text": [
            "Data count: 2\n",
            "{'note': 'This file contains the actual data for your assignment', 'comments': [{'name': 'Dylin', 'count': 100}, {'name': 'Nazlijan', 'count': 100}, {'name': 'Ceira', 'count': 100}, {'name': 'Marie', 'count': 98}, {'name': 'Victory', 'count': 98}, {'name': 'Kaya', 'count': 97}, {'name': 'Dominika', 'count': 93}, {'name': 'Kensey', 'count': 93}, {'name': 'Kennedy', 'count': 91}, {'name': 'Pari', 'count': 90}, {'name': 'Gwen', 'count': 90}, {'name': 'Aneshia', 'count': 88}, {'name': 'Bennett', 'count': 88}, {'name': 'Pietro', 'count': 85}, {'name': 'Soukina', 'count': 85}, {'name': 'Rafal', 'count': 83}, {'name': 'Steve', 'count': 82}, {'name': 'Nicoll', 'count': 78}, {'name': 'Maeve', 'count': 77}, {'name': 'Kyden', 'count': 76}, {'name': 'Emelye', 'count': 75}, {'name': 'Kaidi', 'count': 71}, {'name': 'Michaella', 'count': 69}, {'name': 'Anselm', 'count': 69}, {'name': 'Henri', 'count': 66}, {'name': 'Deena', 'count': 66}, {'name': 'Jagat', 'count': 63}, {'name': 'Braeden', 'count': 62}, {'name': 'Kohen', 'count': 58}, {'name': 'Caleb', 'count': 56}, {'name': 'Yana', 'count': 54}, {'name': 'Danish', 'count': 52}, {'name': 'Oluwanifemi', 'count': 46}, {'name': 'Tembe', 'count': 40}, {'name': 'Raonaid', 'count': 39}, {'name': 'Johnathan', 'count': 33}, {'name': 'Setana', 'count': 33}, {'name': 'Sali', 'count': 25}, {'name': 'Muzzammil', 'count': 23}, {'name': 'Findlie', 'count': 22}, {'name': 'Hadia', 'count': 20}, {'name': 'Zaaine', 'count': 18}, {'name': 'Ameer', 'count': 18}, {'name': 'Harrington', 'count': 14}, {'name': 'Justinas', 'count': 10}, {'name': 'Tasniem', 'count': 8}, {'name': 'Malak', 'count': 7}, {'name': 'Bronagh', 'count': 5}, {'name': 'Chenai', 'count': 4}, {'name': 'Katelyn', 'count': 3}]}\n",
            "============\n",
            "sum of count : 2921\n"
          ],
          "name": "stdout"
        }
      ]
    },
    {
      "cell_type": "markdown",
      "metadata": {
        "id": "pfr6tNQoKVjM",
        "colab_type": "text"
      },
      "source": [
        "<h4>Google Geo API JSON calling"
      ]
    },
    {
      "cell_type": "code",
      "metadata": {
        "id": "UHgTvEC7I7fc",
        "colab_type": "code",
        "colab": {
          "base_uri": "https://localhost:8080/",
          "height": 1761
        },
        "outputId": "181636c7-01d8-4740-f382-f20b51daa32b"
      },
      "source": [
        "import urllib.request, urllib.parse, urllib.error\n",
        "import json\n",
        "import ssl\n",
        "\n",
        "api_key = False\n",
        "# If you have a Google Places API key, enter it here\n",
        "# api_key = 'AIzaSy___IDByT70'\n",
        "# https://developers.google.com/maps/documentation/geocoding/intro\n",
        "\n",
        "if api_key is False:\n",
        "    api_key = 42\n",
        "    serviceurl = 'http://py4e-data.dr-chuck.net/json?'\n",
        "else :\n",
        "    serviceurl = 'https://maps.googleapis.com/maps/api/geocode/json?'\n",
        "\n",
        "# Ignore SSL certificate errors\n",
        "ctx = ssl.create_default_context()\n",
        "ctx.check_hostname = False\n",
        "ctx.verify_mode = ssl.CERT_NONE\n",
        "\n",
        "while True: #continously repeats for address prompt 0 length\n",
        "  \n",
        "    address = input('Enter location: ')\n",
        "    if len(address) < 1: break\n",
        "\n",
        "    parms = dict()\n",
        "    parms['address'] = address\n",
        "    if api_key is not False: parms['key'] = api_key\n",
        "    url = serviceurl + urllib.parse.urlencode(parms)\n",
        "\n",
        "    print('Retrieving', url)\n",
        "    uh = urllib.request.urlopen(url, context=ctx)\n",
        "    data = uh.read().decode()\n",
        "    print('Retrieved', len(data), 'characters')\n",
        "\n",
        "    try:\n",
        "        js = json.loads(data)\n",
        "    except:\n",
        "        js = None\n",
        "\n",
        "    if not js or 'status' not in js or js['status'] != 'OK':\n",
        "        print('==== Failure To Retrieve ====')\n",
        "        print(data)\n",
        "        continue\n",
        "\n",
        "    print(json.dumps(js, indent=4)) #to see entire json dump\n",
        "\n",
        "    lat = js['results'][0]['geometry']['location']['lat']\n",
        "    lng = js['results'][0]['geometry']['location']['lng']\n",
        "    print('lat', lat, 'lng', lng)\n",
        "    location = js['results'][0]['formatted_address']\n",
        "    print(location)\n"
      ],
      "execution_count": 16,
      "outputs": [
        {
          "output_type": "stream",
          "text": [
            "Enter location: blekinge institute of technology\n",
            "Retrieving http://py4e-data.dr-chuck.net/json?address=blekinge+institute+of+technology&key=42\n",
            "Retrieved 2122 characters\n",
            "{\n",
            "    \"results\": [\n",
            "        {\n",
            "            \"address_components\": [\n",
            "                {\n",
            "                    \"long_name\": \"1\",\n",
            "                    \"short_name\": \"1\",\n",
            "                    \"types\": [\n",
            "                        \"street_number\"\n",
            "                    ]\n",
            "                },\n",
            "                {\n",
            "                    \"long_name\": \"Valhallav\\u00e4gen\",\n",
            "                    \"short_name\": \"Valhallav\\u00e4gen\",\n",
            "                    \"types\": [\n",
            "                        \"route\"\n",
            "                    ]\n",
            "                },\n",
            "                {\n",
            "                    \"long_name\": \"Galgamarken-Tross\\u00f6\",\n",
            "                    \"short_name\": \"Galgamarken-Tross\\u00f6\",\n",
            "                    \"types\": [\n",
            "                        \"political\",\n",
            "                        \"sublocality\",\n",
            "                        \"sublocality_level_1\"\n",
            "                    ]\n",
            "                },\n",
            "                {\n",
            "                    \"long_name\": \"Karlskrona\",\n",
            "                    \"short_name\": \"Karlskrona\",\n",
            "                    \"types\": [\n",
            "                        \"postal_town\"\n",
            "                    ]\n",
            "                },\n",
            "                {\n",
            "                    \"long_name\": \"Blekinge l\\u00e4n\",\n",
            "                    \"short_name\": \"Blekinge l\\u00e4n\",\n",
            "                    \"types\": [\n",
            "                        \"administrative_area_level_1\",\n",
            "                        \"political\"\n",
            "                    ]\n",
            "                },\n",
            "                {\n",
            "                    \"long_name\": \"Sweden\",\n",
            "                    \"short_name\": \"SE\",\n",
            "                    \"types\": [\n",
            "                        \"country\",\n",
            "                        \"political\"\n",
            "                    ]\n",
            "                },\n",
            "                {\n",
            "                    \"long_name\": \"371 41\",\n",
            "                    \"short_name\": \"371 41\",\n",
            "                    \"types\": [\n",
            "                        \"postal_code\"\n",
            "                    ]\n",
            "                }\n",
            "            ],\n",
            "            \"formatted_address\": \"Valhallav\\u00e4gen 1, 371 41 Karlskrona, Sweden\",\n",
            "            \"geometry\": {\n",
            "                \"location\": {\n",
            "                    \"lat\": 56.1806556,\n",
            "                    \"lng\": 15.5906982\n",
            "                },\n",
            "                \"location_type\": \"ROOFTOP\",\n",
            "                \"viewport\": {\n",
            "                    \"northeast\": {\n",
            "                        \"lat\": 56.1820045802915,\n",
            "                        \"lng\": 15.5920471802915\n",
            "                    },\n",
            "                    \"southwest\": {\n",
            "                        \"lat\": 56.17930661970851,\n",
            "                        \"lng\": 15.5893492197085\n",
            "                    }\n",
            "                }\n",
            "            },\n",
            "            \"place_id\": \"ChIJrXJWiF1sVkYRSSMautlmJ68\",\n",
            "            \"plus_code\": {\n",
            "                \"compound_code\": \"5HJR+77 Karlskrona, Sweden\",\n",
            "                \"global_code\": \"9F8Q5HJR+77\"\n",
            "            },\n",
            "            \"types\": [\n",
            "                \"establishment\",\n",
            "                \"point_of_interest\",\n",
            "                \"university\"\n",
            "            ]\n",
            "        }\n",
            "    ],\n",
            "    \"status\": \"OK\"\n",
            "}\n",
            "lat 56.1806556 lng 15.5906982\n",
            "Valhallavägen 1, 371 41 Karlskrona, Sweden\n",
            "Enter location: \n"
          ],
          "name": "stdout"
        }
      ]
    },
    {
      "cell_type": "code",
      "metadata": {
        "id": "4fSETaodLLNZ",
        "colab_type": "code",
        "colab": {}
      },
      "source": [
        ""
      ],
      "execution_count": 0,
      "outputs": []
    }
  ]
}